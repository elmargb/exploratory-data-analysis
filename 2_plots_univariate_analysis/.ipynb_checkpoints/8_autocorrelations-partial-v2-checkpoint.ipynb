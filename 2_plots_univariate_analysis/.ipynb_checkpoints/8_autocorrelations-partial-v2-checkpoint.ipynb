{
 "cells": [
  {
   "cell_type": "markdown",
   "id": "bd0c5c1f-8b2f-4f17-8806-e5a19fc8b9bb",
   "metadata": {},
   "source": [
    "## Partial Autocorrelations (pacf) - v2 - using default plot of statsmodels\n",
    "Instead of a custom graph of plotly\n",
    "\n",
    "Following the same logic using with plotly, the return of the function is the figure"
   ]
  },
  {
   "cell_type": "code",
   "execution_count": 1,
   "id": "068084cf-0347-4f1d-942b-d51df4aa04c5",
   "metadata": {},
   "outputs": [
    {
     "name": "stdout",
     "output_type": "stream",
     "text": [
      "root path:  D:\\github-mi-repo\\Exploratory-data-analysis\n"
     ]
    }
   ],
   "source": [
    "import os\n",
    "# fix root path to save outputs\n",
    "actual_path = os.path.abspath(os.getcwd())\n",
    "list_root_path = actual_path.split('\\\\')[:-1]\n",
    "root_path = '\\\\'.join(list_root_path)\n",
    "os.chdir(root_path)\n",
    "print('root path: ', root_path)"
   ]
  },
  {
   "cell_type": "markdown",
   "id": "e2110f13-5a33-4920-b760-eaecdf793f93",
   "metadata": {},
   "source": [
    "### 0. Package and load data\n",
    "**Dataset: Tensorflow climate**"
   ]
  },
  {
   "cell_type": "code",
   "execution_count": 2,
   "id": "88619d4d-9173-4d05-9c2b-930824efe68b",
   "metadata": {},
   "outputs": [],
   "source": [
    "import tensorflow as tf\n",
    "import os\n",
    "import numpy as np\n",
    "import pandas as pd\n",
    "\n",
    "import matplotlib.pyplot as plt\n",
    "from statsmodels.graphics import tsaplots\n",
    "import statsmodels.api as sm\n",
    "\n",
    "# plotly\n",
    "import plotly\n",
    "import plotly.express as px\n",
    "import plotly.graph_objects as go\n",
    "import plotly.io as pio\n",
    "from plotly.subplots import make_subplots"
   ]
  },
  {
   "cell_type": "code",
   "execution_count": 3,
   "id": "0071a54b-0def-4379-b783-b8a22de87623",
   "metadata": {},
   "outputs": [],
   "source": [
    "# get data\n",
    "zip_path = tf.keras.utils.get_file(\n",
    "    origin='https://storage.googleapis.com/tensorflow/tf-keras-datasets/jena_climate_2009_2016.csv.zip',\n",
    "    fname='jena_climate_2009_2016.csv.zip',\n",
    "    extract=True)\n",
    "csv_path, _ = os.path.splitext(zip_path)\n",
    "\n",
    "# read data\n",
    "data = pd.read_csv(csv_path)\n",
    "\n",
    "# transform index into datetime format\n",
    "index_datetime = pd.to_datetime(data.pop('Date Time'), format='%d.%m.%Y %H:%M:%S')\n",
    "\n",
    "# set datetime as index\n",
    "data.set_index(index_datetime, inplace =  True)"
   ]
  },
  {
   "cell_type": "code",
   "execution_count": 4,
   "id": "36d5c804-a36f-410c-9609-03ebdfabbefe",
   "metadata": {},
   "outputs": [
    {
     "data": {
      "text/html": [
       "<div>\n",
       "<style scoped>\n",
       "    .dataframe tbody tr th:only-of-type {\n",
       "        vertical-align: middle;\n",
       "    }\n",
       "\n",
       "    .dataframe tbody tr th {\n",
       "        vertical-align: top;\n",
       "    }\n",
       "\n",
       "    .dataframe thead th {\n",
       "        text-align: right;\n",
       "    }\n",
       "</style>\n",
       "<table border=\"1\" class=\"dataframe\">\n",
       "  <thead>\n",
       "    <tr style=\"text-align: right;\">\n",
       "      <th></th>\n",
       "      <th>p (mbar)</th>\n",
       "      <th>T (degC)</th>\n",
       "      <th>Tpot (K)</th>\n",
       "      <th>Tdew (degC)</th>\n",
       "      <th>rh (%)</th>\n",
       "      <th>VPmax (mbar)</th>\n",
       "      <th>VPact (mbar)</th>\n",
       "      <th>VPdef (mbar)</th>\n",
       "      <th>sh (g/kg)</th>\n",
       "      <th>H2OC (mmol/mol)</th>\n",
       "      <th>rho (g/m**3)</th>\n",
       "      <th>wv (m/s)</th>\n",
       "      <th>max. wv (m/s)</th>\n",
       "      <th>wd (deg)</th>\n",
       "    </tr>\n",
       "    <tr>\n",
       "      <th>Date Time</th>\n",
       "      <th></th>\n",
       "      <th></th>\n",
       "      <th></th>\n",
       "      <th></th>\n",
       "      <th></th>\n",
       "      <th></th>\n",
       "      <th></th>\n",
       "      <th></th>\n",
       "      <th></th>\n",
       "      <th></th>\n",
       "      <th></th>\n",
       "      <th></th>\n",
       "      <th></th>\n",
       "      <th></th>\n",
       "    </tr>\n",
       "  </thead>\n",
       "  <tbody>\n",
       "    <tr>\n",
       "      <th>2009-01-01 00:10:00</th>\n",
       "      <td>996.52</td>\n",
       "      <td>-8.02</td>\n",
       "      <td>265.40</td>\n",
       "      <td>-8.90</td>\n",
       "      <td>93.3</td>\n",
       "      <td>3.33</td>\n",
       "      <td>3.11</td>\n",
       "      <td>0.22</td>\n",
       "      <td>1.94</td>\n",
       "      <td>3.12</td>\n",
       "      <td>1307.75</td>\n",
       "      <td>1.03</td>\n",
       "      <td>1.75</td>\n",
       "      <td>152.3</td>\n",
       "    </tr>\n",
       "    <tr>\n",
       "      <th>2009-01-01 00:20:00</th>\n",
       "      <td>996.57</td>\n",
       "      <td>-8.41</td>\n",
       "      <td>265.01</td>\n",
       "      <td>-9.28</td>\n",
       "      <td>93.4</td>\n",
       "      <td>3.23</td>\n",
       "      <td>3.02</td>\n",
       "      <td>0.21</td>\n",
       "      <td>1.89</td>\n",
       "      <td>3.03</td>\n",
       "      <td>1309.80</td>\n",
       "      <td>0.72</td>\n",
       "      <td>1.50</td>\n",
       "      <td>136.1</td>\n",
       "    </tr>\n",
       "    <tr>\n",
       "      <th>2009-01-01 00:30:00</th>\n",
       "      <td>996.53</td>\n",
       "      <td>-8.51</td>\n",
       "      <td>264.91</td>\n",
       "      <td>-9.31</td>\n",
       "      <td>93.9</td>\n",
       "      <td>3.21</td>\n",
       "      <td>3.01</td>\n",
       "      <td>0.20</td>\n",
       "      <td>1.88</td>\n",
       "      <td>3.02</td>\n",
       "      <td>1310.24</td>\n",
       "      <td>0.19</td>\n",
       "      <td>0.63</td>\n",
       "      <td>171.6</td>\n",
       "    </tr>\n",
       "    <tr>\n",
       "      <th>2009-01-01 00:40:00</th>\n",
       "      <td>996.51</td>\n",
       "      <td>-8.31</td>\n",
       "      <td>265.12</td>\n",
       "      <td>-9.07</td>\n",
       "      <td>94.2</td>\n",
       "      <td>3.26</td>\n",
       "      <td>3.07</td>\n",
       "      <td>0.19</td>\n",
       "      <td>1.92</td>\n",
       "      <td>3.08</td>\n",
       "      <td>1309.19</td>\n",
       "      <td>0.34</td>\n",
       "      <td>0.50</td>\n",
       "      <td>198.0</td>\n",
       "    </tr>\n",
       "    <tr>\n",
       "      <th>2009-01-01 00:50:00</th>\n",
       "      <td>996.51</td>\n",
       "      <td>-8.27</td>\n",
       "      <td>265.15</td>\n",
       "      <td>-9.04</td>\n",
       "      <td>94.1</td>\n",
       "      <td>3.27</td>\n",
       "      <td>3.08</td>\n",
       "      <td>0.19</td>\n",
       "      <td>1.92</td>\n",
       "      <td>3.09</td>\n",
       "      <td>1309.00</td>\n",
       "      <td>0.32</td>\n",
       "      <td>0.63</td>\n",
       "      <td>214.3</td>\n",
       "    </tr>\n",
       "  </tbody>\n",
       "</table>\n",
       "</div>"
      ],
      "text/plain": [
       "                     p (mbar)  T (degC)  Tpot (K)  Tdew (degC)  rh (%)  \\\n",
       "Date Time                                                                \n",
       "2009-01-01 00:10:00    996.52     -8.02    265.40        -8.90    93.3   \n",
       "2009-01-01 00:20:00    996.57     -8.41    265.01        -9.28    93.4   \n",
       "2009-01-01 00:30:00    996.53     -8.51    264.91        -9.31    93.9   \n",
       "2009-01-01 00:40:00    996.51     -8.31    265.12        -9.07    94.2   \n",
       "2009-01-01 00:50:00    996.51     -8.27    265.15        -9.04    94.1   \n",
       "\n",
       "                     VPmax (mbar)  VPact (mbar)  VPdef (mbar)  sh (g/kg)  \\\n",
       "Date Time                                                                  \n",
       "2009-01-01 00:10:00          3.33          3.11          0.22       1.94   \n",
       "2009-01-01 00:20:00          3.23          3.02          0.21       1.89   \n",
       "2009-01-01 00:30:00          3.21          3.01          0.20       1.88   \n",
       "2009-01-01 00:40:00          3.26          3.07          0.19       1.92   \n",
       "2009-01-01 00:50:00          3.27          3.08          0.19       1.92   \n",
       "\n",
       "                     H2OC (mmol/mol)  rho (g/m**3)  wv (m/s)  max. wv (m/s)  \\\n",
       "Date Time                                                                     \n",
       "2009-01-01 00:10:00             3.12       1307.75      1.03           1.75   \n",
       "2009-01-01 00:20:00             3.03       1309.80      0.72           1.50   \n",
       "2009-01-01 00:30:00             3.02       1310.24      0.19           0.63   \n",
       "2009-01-01 00:40:00             3.08       1309.19      0.34           0.50   \n",
       "2009-01-01 00:50:00             3.09       1309.00      0.32           0.63   \n",
       "\n",
       "                     wd (deg)  \n",
       "Date Time                      \n",
       "2009-01-01 00:10:00     152.3  \n",
       "2009-01-01 00:20:00     136.1  \n",
       "2009-01-01 00:30:00     171.6  \n",
       "2009-01-01 00:40:00     198.0  \n",
       "2009-01-01 00:50:00     214.3  "
      ]
     },
     "execution_count": 4,
     "metadata": {},
     "output_type": "execute_result"
    }
   ],
   "source": [
    "data.head()"
   ]
  },
  {
   "cell_type": "code",
   "execution_count": 5,
   "id": "c1293365-03c5-473e-bd15-355e937f98ef",
   "metadata": {},
   "outputs": [],
   "source": [
    "# sampling to example\n",
    "data = data[0:1000]"
   ]
  },
  {
   "cell_type": "code",
   "execution_count": 6,
   "id": "a1411e7e-00ce-4653-b9b7-96f5260f35b6",
   "metadata": {},
   "outputs": [
    {
     "data": {
      "text/plain": [
       "(1000, 14)"
      ]
     },
     "execution_count": 6,
     "metadata": {},
     "output_type": "execute_result"
    }
   ],
   "source": [
    "data.shape"
   ]
  },
  {
   "cell_type": "code",
   "execution_count": null,
   "id": "e4861fe7-1957-4148-af13-59acbfeaf736",
   "metadata": {},
   "outputs": [],
   "source": []
  },
  {
   "cell_type": "code",
   "execution_count": null,
   "id": "c8d13ef2-2984-44e4-b224-fa342a7adff8",
   "metadata": {},
   "outputs": [],
   "source": []
  },
  {
   "cell_type": "markdown",
   "id": "7f3b7507-378b-4a19-82a8-aafde2604054",
   "metadata": {},
   "source": [
    "## Individual pacf"
   ]
  },
  {
   "cell_type": "markdown",
   "id": "432c32ec-0709-4d13-865c-707593bc933d",
   "metadata": {},
   "source": [
    "### 1. codes to generate EDA\n",
    "Classic Plot of PACF\n",
    "USING STATS MODELS:\n",
    "- **plot_pacf (plot pacf)**\n",
    "\n",
    "  tsaplots.plot_pacf(data[feature_example], lags=40)\n",
    "\n",
    "- **sm.tsa.pacf (calculate pacf)**\n",
    "\n",
    "  sm.tsa.pacf(dta.values.squeeze(), alpha=0.05, nlags = 40)"
   ]
  },
  {
   "cell_type": "code",
   "execution_count": 7,
   "id": "d03cff42-fa48-4045-a1d2-50280502dc41",
   "metadata": {},
   "outputs": [
    {
     "data": {
      "image/png": "[encoded data removed]",
      "text/plain": [
       "<Figure size 640x480 with 1 Axes>"
      ]
     },
     "metadata": {},
     "output_type": "display_data"
    }
   ],
   "source": [
    "# Plotting autocorrelations - example - statsmodel\n",
    "feature_example = data.columns.tolist()[0]\n",
    "\n",
    "fig = tsaplots.plot_pacf(data[feature_example], lags=40, method=\"ywm\")\n",
    "plt.show()"
   ]
  },
  {
   "cell_type": "code",
   "execution_count": 9,
   "id": "242e61ee-cbf7-4a26-a9f1-4a50cabe8b26",
   "metadata": {},
   "outputs": [],
   "source": [
    "pacf, confint = sm.tsa.pacf(data[feature_example], alpha=0.05, nlags = 40, method=\"ywm\")"
   ]
  },
  {
   "cell_type": "code",
   "execution_count": 10,
   "id": "c080044f-7dae-42bb-80f9-ae3e6c63b500",
   "metadata": {},
   "outputs": [
    {
     "data": {
      "text/plain": [
       "array([ 1.        ,  0.99965888, -0.32317944, -0.1979533 , -0.14082787,\n",
       "       -0.14200044, -0.13449353, -0.09690494, -0.05848072, -0.09031897,\n",
       "       -0.05221976, -0.03990343, -0.0426326 , -0.04766017, -0.04046184,\n",
       "       -0.01940706, -0.01159987, -0.01215238, -0.00438935, -0.04394061,\n",
       "       -0.00635988, -0.01819499, -0.01988782, -0.03494816,  0.01976241,\n",
       "       -0.01041797, -0.03842443, -0.00646016, -0.01086736,  0.00794904,\n",
       "       -0.01346091, -0.00108015,  0.01912179, -0.05518353, -0.02510864,\n",
       "        0.00729733, -0.00846211, -0.0298473 , -0.02803992,  0.00189266,\n",
       "       -0.01044503])"
      ]
     },
     "execution_count": 10,
     "metadata": {},
     "output_type": "execute_result"
    }
   ],
   "source": [
    "pacf"
   ]
  },
  {
   "cell_type": "code",
   "execution_count": 11,
   "id": "fb8411cb-549c-41ea-9c1e-64308f3c5260",
   "metadata": {},
   "outputs": [
    {
     "data": {
      "text/plain": [
       "array([[ 1.        ,  1.        ],\n",
       "       [ 0.93767937,  1.06163838],\n",
       "       [-0.38515894, -0.26119994],\n",
       "       [-0.2599328 , -0.1359738 ],\n",
       "       [-0.20280738, -0.07884837],\n",
       "       [-0.20397994, -0.08002094],\n",
       "       [-0.19647303, -0.07251402],\n",
       "       [-0.15888444, -0.03492544],\n",
       "       [-0.12046022,  0.00349878],\n",
       "       [-0.15229847, -0.02833947],\n",
       "       [-0.11419926,  0.00975974],\n",
       "       [-0.10188293,  0.02207608],\n",
       "       [-0.1046121 ,  0.0193469 ],\n",
       "       [-0.10963967,  0.01431934],\n",
       "       [-0.10244135,  0.02151766],\n",
       "       [-0.08138657,  0.04257244],\n",
       "       [-0.07357937,  0.05037964],\n",
       "       [-0.07413188,  0.04982713],\n",
       "       [-0.06636885,  0.05759016],\n",
       "       [-0.10592011,  0.01803889],\n",
       "       [-0.06833938,  0.05561962],\n",
       "       [-0.0801745 ,  0.04378451],\n",
       "       [-0.08186733,  0.04209168],\n",
       "       [-0.09692767,  0.02703134],\n",
       "       [-0.04221709,  0.08174191],\n",
       "       [-0.07239747,  0.05156154],\n",
       "       [-0.10040393,  0.02355507],\n",
       "       [-0.06843967,  0.05551934],\n",
       "       [-0.07284687,  0.05111214],\n",
       "       [-0.05403047,  0.06992854],\n",
       "       [-0.07544041,  0.04851859],\n",
       "       [-0.06305965,  0.06089936],\n",
       "       [-0.04285772,  0.08110129],\n",
       "       [-0.11716304,  0.00679597],\n",
       "       [-0.08708814,  0.03687087],\n",
       "       [-0.05468217,  0.06927684],\n",
       "       [-0.07044162,  0.05351739],\n",
       "       [-0.0918268 ,  0.0321322 ],\n",
       "       [-0.09001943,  0.03393958],\n",
       "       [-0.06008684,  0.06387216],\n",
       "       [-0.07242453,  0.05153447]])"
      ]
     },
     "execution_count": 11,
     "metadata": {},
     "output_type": "execute_result"
    }
   ],
   "source": [
    "confint"
   ]
  },
  {
   "cell_type": "markdown",
   "id": "011c4ec4-fdd5-4518-8fe9-e31c36598811",
   "metadata": {},
   "source": [
    "### 2. Sintetize"
   ]
  },
  {
   "cell_type": "code",
   "execution_count": null,
   "id": "3c88f209-d103-4517-b044-dc9a6bad8ebc",
   "metadata": {},
   "outputs": [],
   "source": [
    "def plot_individual_pacf_stats(df, feature_plot, lags):\n",
    "    \"\"\"\n",
    "    Plot the individual PACF of a feature of with x number of lags. \n",
    "    ->PACF generated by statsmodels\n",
    "\n",
    "    Args\n",
    "        df (dataframe): data. The index should be the timestamp\n",
    "        feature_plot (string): name of the feature that will be ploted\n",
    "        lags (int): Number of lags in the PACF\n",
    "\n",
    "    Return\n",
    "        fig (figure matplotlib): fig of matplotlib with the pacf generated by statsmodels\n",
    "    \"\"\"\n",
    "    fig = tsaplots.plot_pacf(df[feature_plot], \n",
    "                            lags = lags)\n",
    "\n",
    "    return fig"
   ]
  },
  {
   "cell_type": "code",
   "execution_count": null,
   "id": "86472243-ff9a-478e-8cbb-326ff56b754d",
   "metadata": {},
   "outputs": [],
   "source": [
    "feature_ = data.columns.tolist()[3]\n",
    "\n",
    "fig_pacf_individual_stats = plot_individual_pacf_stats(\n",
    "    df = data, \n",
    "    feature_plot = feature_, \n",
    "    lags = 40\n",
    ")"
   ]
  },
  {
   "cell_type": "code",
   "execution_count": null,
   "id": "3f2a64b1-20aa-4737-8bd9-eea519f425a3",
   "metadata": {},
   "outputs": [],
   "source": [
    "# save individual pacf\n",
    "dpi_value = 300\n",
    "fig_pacf_individual_stats.savefig(\"output_eda/2_univariate_analysis/pacf_individual_stats.png\", dpi = dpi_value)"
   ]
  },
  {
   "cell_type": "code",
   "execution_count": null,
   "id": "088fb2a5-48a1-40b8-a5e0-cd26524d0747",
   "metadata": {},
   "outputs": [],
   "source": []
  },
  {
   "cell_type": "code",
   "execution_count": null,
   "id": "bb7383f1-e68d-403c-bd6f-90ebd6081eb3",
   "metadata": {},
   "outputs": [],
   "source": []
  },
  {
   "cell_type": "markdown",
   "id": "7cadc86a-0e96-46b7-803a-ff480f950f28",
   "metadata": {},
   "source": [
    "## PACF all features\n",
    "Make a subplot of all Pacf functions generated by statsmodels"
   ]
  },
  {
   "cell_type": "code",
   "execution_count": null,
   "id": "3551dba9-e06b-4604-a813-fb204f4f0dfc",
   "metadata": {},
   "outputs": [],
   "source": [
    "def plot_all_pacf_stats(df, lags, number_columns = 2):\n",
    "    \"\"\"\n",
    "    Plot the individual PACF of ALL FEATURES of with x number of lags\n",
    "    ->PACF generated by statsmodels\n",
    "\n",
    "    Args\n",
    "        df (dataframe): data. The index should be the timestamp\n",
    "        lags (int): Number of lags in the PACF\n",
    "\n",
    "    Return\n",
    "        fig (figure plotly): fig of plotly with the plot generated\n",
    "    \"\"\"\n",
    "\n",
    "    ############################################################################\n",
    "    # get list of features\n",
    "    list_features = df.columns.tolist()\n",
    "    \n",
    "    \n",
    "    # define number of rows with a number of columns fixed pass as parameter\n",
    "    if (df.shape[1] % number_columns) != 0:\n",
    "        number_rows = (df.shape[1] // number_columns) + 1 \n",
    "    else:\n",
    "        number_rows = (df.shape[1] // number_columns)\n",
    "\n",
    "    \n",
    "    # create subplots\n",
    "    fig, axes = plt.subplots(nrows = number_rows, \n",
    "                             ncols = number_columns,\n",
    "                             #figsize = (subplot_width * number_columns, subplot_height * number_rows),\n",
    "                             figsize=(7*number_columns, 4*number_rows + 0),\n",
    "                             tight_layout = True\n",
    "                            )\n",
    "    \n",
    "    # add title\n",
    "    #fig.suptitle(\"Plots of Autocorrelation\", fontsize=28)  # sometimes the tittle is overlaped in the plots\n",
    "    \n",
    "    # add subplot for each of the features -> feature\n",
    "    for index_feature, feature in enumerate(list_features):\n",
    "        row = (index_feature // number_columns) #+ 1 # in matplotlib index starts in 0, in plolty starts in 1\n",
    "        column = (index_feature % number_columns) #+ 1\n",
    "    \n",
    "        # subplot each feature\n",
    "        tsaplots.plot_pacf(df[feature], lags=lags, ax=axes[row, column])\n",
    "        axes[row, column].set_title(f'PACF of \"{feature}\"')\n",
    "    \n",
    "    # adjust design\n",
    "    plt.subplots_adjust(top=0.95) # sup title above the subplots\n",
    "    \n",
    "    ############################## \n",
    "\n",
    "    return fig"
   ]
  },
  {
   "cell_type": "code",
   "execution_count": null,
   "id": "652ccdad-1c78-4eb8-8653-435f6f24f4de",
   "metadata": {
    "scrolled": true
   },
   "outputs": [],
   "source": [
    "fig_pacf_stats = plot_all_pacf_stats(\n",
    "    df = data, \n",
    "    lags = 40,\n",
    "    number_columns = 2\n",
    ")"
   ]
  },
  {
   "cell_type": "code",
   "execution_count": null,
   "id": "60642865-88aa-41d9-a0fc-3fa55e2c95c6",
   "metadata": {},
   "outputs": [],
   "source": [
    "# save figure acf\n",
    "dpi_value = 300\n",
    "fig_pacf_stats.savefig(\"output_eda/2_univariate_analysis/pacf_stats.png\", dpi = dpi_value)"
   ]
  },
  {
   "cell_type": "code",
   "execution_count": null,
   "id": "0479fce7-f117-4029-9173-6fe2fba0b33c",
   "metadata": {},
   "outputs": [],
   "source": []
  },
  {
   "cell_type": "code",
   "execution_count": null,
   "id": "989d9ed7-2fbb-4ef5-a9dd-27c7ede8d82c",
   "metadata": {},
   "outputs": [],
   "source": []
  },
  {
   "cell_type": "code",
   "execution_count": null,
   "id": "403ee314-b34c-4b6a-a4c9-43f8866d42ea",
   "metadata": {},
   "outputs": [],
   "source": []
  },
  {
   "cell_type": "code",
   "execution_count": null,
   "id": "039eb810-47f8-478b-ab2f-de41602fbd67",
   "metadata": {},
   "outputs": [],
   "source": []
  }
 ],
 "metadata": {
  "kernelspec": {
   "display_name": "Python 3 (ipykernel)",
   "language": "python",
   "name": "python3"
  },
  "language_info": {
   "codemirror_mode": {
    "name": "ipython",
    "version": 3
   },
   "file_extension": ".py",
   "mimetype": "text/x-python",
   "name": "python",
   "nbconvert_exporter": "python",
   "pygments_lexer": "ipython3",
   "version": "3.10.12"
  }
 },
 "nbformat": 4,
 "nbformat_minor": 5
}
