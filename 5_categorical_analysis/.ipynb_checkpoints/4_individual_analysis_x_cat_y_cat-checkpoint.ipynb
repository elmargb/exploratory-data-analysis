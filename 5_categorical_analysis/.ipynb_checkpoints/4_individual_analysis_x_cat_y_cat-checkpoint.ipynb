{
 "cells": [
  {
   "cell_type": "markdown",
   "id": "84c4ad66-6b30-4bc0-9dfd-a36a5eaba998",
   "metadata": {},
   "source": [
    "# Individual analysis between \"x categorical\" and \"y categorical\"\n",
    "### [feature vs target]\n",
    "- tables\n",
    "- plots"
   ]
  },
  {
   "cell_type": "code",
   "execution_count": null,
   "id": "19c31c1e-43a6-42f7-ad0f-c68275c5fb73",
   "metadata": {},
   "outputs": [],
   "source": []
  }
 ],
 "metadata": {
  "kernelspec": {
   "display_name": "Python 3 (ipykernel)",
   "language": "python",
   "name": "python3"
  },
  "language_info": {
   "codemirror_mode": {
    "name": "ipython",
    "version": 3
   },
   "file_extension": ".py",
   "mimetype": "text/x-python",
   "name": "python",
   "nbconvert_exporter": "python",
   "pygments_lexer": "ipython3",
   "version": "3.10.12"
  }
 },
 "nbformat": 4,
 "nbformat_minor": 5
}
