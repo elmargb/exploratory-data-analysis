{
 "cells": [
  {
   "cell_type": "markdown",
   "id": "95b2231b-d611-4d6f-9a6f-f38765c58dca",
   "metadata": {},
   "source": [
    "# Multiple analysis between \"x categorical\" and \"y Continuous variable\"\n",
    "### [feature 1 & feature 2 vs target]\n",
    "### [feature 1 & feature 2 & feature 3 vs target]\n",
    "- tables\n",
    "- plots"
   ]
  },
  {
   "cell_type": "code",
   "execution_count": null,
   "id": "20ec49fd-9a7d-4a54-91d1-0b354065434c",
   "metadata": {},
   "outputs": [],
   "source": []
  }
 ],
 "metadata": {
  "kernelspec": {
   "display_name": "Python 3 (ipykernel)",
   "language": "python",
   "name": "python3"
  },
  "language_info": {
   "codemirror_mode": {
    "name": "ipython",
    "version": 3
   },
   "file_extension": ".py",
   "mimetype": "text/x-python",
   "name": "python",
   "nbconvert_exporter": "python",
   "pygments_lexer": "ipython3",
   "version": "3.10.12"
  }
 },
 "nbformat": 4,
 "nbformat_minor": 5
}
