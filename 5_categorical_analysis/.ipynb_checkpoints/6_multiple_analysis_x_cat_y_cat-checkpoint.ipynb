{
 "cells": [
  {
   "cell_type": "markdown",
   "id": "ab62173e-5f39-4875-a1dd-13ce945bcd34",
   "metadata": {},
   "source": [
    "# Multiple analysis between \"x categorical\" and \"y CATEGORICAL\"\n",
    "### [feature 1 & feature 2 vs target]\n",
    "### [feature 1 & feature 2 & feature 3 vs target]\n",
    "- tables\n",
    "- plots"
   ]
  },
  {
   "cell_type": "code",
   "execution_count": null,
   "id": "2c989b68-929f-4709-9d91-51a039dbda95",
   "metadata": {},
   "outputs": [],
   "source": []
  }
 ],
 "metadata": {
  "kernelspec": {
   "display_name": "Python 3 (ipykernel)",
   "language": "python",
   "name": "python3"
  },
  "language_info": {
   "codemirror_mode": {
    "name": "ipython",
    "version": 3
   },
   "file_extension": ".py",
   "mimetype": "text/x-python",
   "name": "python",
   "nbconvert_exporter": "python",
   "pygments_lexer": "ipython3",
   "version": "3.10.12"
  }
 },
 "nbformat": 4,
 "nbformat_minor": 5
}
