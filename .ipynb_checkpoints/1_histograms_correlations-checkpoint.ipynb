{
 "cells": [
  {
   "cell_type": "markdown",
   "id": "d6903d06-c7a4-43b7-b99b-3b075cb59636",
   "metadata": {},
   "source": [
    "# Histogram and correlations"
   ]
  },
  {
   "cell_type": "code",
   "execution_count": null,
   "id": "88404dc0-445a-421c-9b69-15aa7c178e3e",
   "metadata": {},
   "outputs": [],
   "source": []
  },
  {
   "cell_type": "markdown",
   "id": "62bcd08e-29d2-4eec-8de0-40fa871442a5",
   "metadata": {},
   "source": [
    "### 0. Package and load data"
   ]
  },
  {
   "cell_type": "code",
   "execution_count": null,
   "id": "9e4191dd-548e-474c-8d0b-b1187c79ec46",
   "metadata": {},
   "outputs": [],
   "source": []
  },
  {
   "cell_type": "code",
   "execution_count": null,
   "id": "530a1dec-ca85-405b-ba77-ccfabf910c97",
   "metadata": {},
   "outputs": [],
   "source": []
  },
  {
   "cell_type": "code",
   "execution_count": null,
   "id": "5e3cc072-19ca-4df2-b419-c48579a6c1c8",
   "metadata": {},
   "outputs": [],
   "source": []
  },
  {
   "cell_type": "code",
   "execution_count": null,
   "id": "1e130df8-33e4-432f-8c6f-90c0a4dbf30e",
   "metadata": {},
   "outputs": [],
   "source": []
  },
  {
   "cell_type": "markdown",
   "id": "a3f71513-aaf0-4222-ae94-0e4aa6bb4be0",
   "metadata": {},
   "source": [
    "### 1. Codes to generate the EDA (numbers)"
   ]
  },
  {
   "cell_type": "code",
   "execution_count": null,
   "id": "44a53bff-0b71-4f4d-84e6-c34ff6cc0824",
   "metadata": {},
   "outputs": [],
   "source": []
  },
  {
   "cell_type": "code",
   "execution_count": null,
   "id": "dd517fb8-5f8f-4370-be5f-a7bd9cee1722",
   "metadata": {},
   "outputs": [],
   "source": []
  },
  {
   "cell_type": "code",
   "execution_count": null,
   "id": "ce1d0b6f-faeb-4c1b-9379-e5a854ef829a",
   "metadata": {},
   "outputs": [],
   "source": []
  },
  {
   "cell_type": "code",
   "execution_count": null,
   "id": "d397511b-0c01-4fea-8e26-4d92741bd1b7",
   "metadata": {},
   "outputs": [],
   "source": []
  },
  {
   "cell_type": "markdown",
   "id": "954f5f55-fee8-4cc4-a5ac-7b75a31e232d",
   "metadata": {},
   "source": [
    "### 2. Codes to plot the EDA (graphs) - seaborn - matplotlib"
   ]
  },
  {
   "cell_type": "code",
   "execution_count": null,
   "id": "a552710b-eb3f-4e2e-b78c-5154ce35954c",
   "metadata": {},
   "outputs": [],
   "source": []
  },
  {
   "cell_type": "code",
   "execution_count": null,
   "id": "0fa6fb2e-830f-4d03-8fe9-64af55e50af3",
   "metadata": {},
   "outputs": [],
   "source": []
  },
  {
   "cell_type": "code",
   "execution_count": null,
   "id": "79163793-f652-4b12-b15c-92f6dea65354",
   "metadata": {},
   "outputs": [],
   "source": []
  },
  {
   "cell_type": "code",
   "execution_count": null,
   "id": "629fb0b7-9ceb-4816-aa08-949a0b4064df",
   "metadata": {},
   "outputs": [],
   "source": []
  },
  {
   "cell_type": "markdown",
   "id": "269f5a56-e193-4796-bedd-3cf05c94023f",
   "metadata": {},
   "source": [
    "### 3. Codes to plot the EDA (graphs) - plotly"
   ]
  },
  {
   "cell_type": "code",
   "execution_count": null,
   "id": "610f2660-d40b-472d-8dde-71a02486c5f9",
   "metadata": {},
   "outputs": [],
   "source": []
  },
  {
   "cell_type": "code",
   "execution_count": null,
   "id": "0d870b0f-9c10-4f19-ad38-36d29115b3c8",
   "metadata": {},
   "outputs": [],
   "source": []
  },
  {
   "cell_type": "code",
   "execution_count": null,
   "id": "d817a84b-0aa6-43d0-9dda-373ab8485566",
   "metadata": {},
   "outputs": [],
   "source": []
  },
  {
   "cell_type": "code",
   "execution_count": null,
   "id": "a3d256a0-af93-432c-a61f-ecc559992506",
   "metadata": {},
   "outputs": [],
   "source": []
  },
  {
   "cell_type": "markdown",
   "id": "6adecfd0-65e3-4b93-8b08-c68e15b02b4c",
   "metadata": {},
   "source": [
    "### 4. Codes to synthesize the analysis"
   ]
  },
  {
   "cell_type": "code",
   "execution_count": null,
   "id": "80dff743-7525-4f5e-a7b6-e4bda48d18af",
   "metadata": {},
   "outputs": [],
   "source": []
  },
  {
   "cell_type": "code",
   "execution_count": null,
   "id": "6cf3d2e0-2b7f-4c21-8856-69a6e37d76d2",
   "metadata": {},
   "outputs": [],
   "source": []
  },
  {
   "cell_type": "code",
   "execution_count": null,
   "id": "62d0fd96-2f8d-4d29-8d62-70b5ebd8350a",
   "metadata": {},
   "outputs": [],
   "source": []
  },
  {
   "cell_type": "code",
   "execution_count": null,
   "id": "f5b078bb-73b7-45fd-84c4-91f50032cf10",
   "metadata": {},
   "outputs": [],
   "source": []
  }
 ],
 "metadata": {
  "kernelspec": {
   "display_name": "Python 3 (ipykernel)",
   "language": "python",
   "name": "python3"
  },
  "language_info": {
   "codemirror_mode": {
    "name": "ipython",
    "version": 3
   },
   "file_extension": ".py",
   "mimetype": "text/x-python",
   "name": "python",
   "nbconvert_exporter": "python",
   "pygments_lexer": "ipython3",
   "version": "3.10.12"
  }
 },
 "nbformat": 4,
 "nbformat_minor": 5
}
