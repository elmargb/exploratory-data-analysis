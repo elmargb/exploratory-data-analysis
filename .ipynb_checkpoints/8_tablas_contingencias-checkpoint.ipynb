{
 "cells": [
  {
   "cell_type": "markdown",
   "id": "56385a4f-85a3-4ccd-a8f6-58c225a905a6",
   "metadata": {},
   "source": [
    "Tablas contingencias\n",
    "- X, y y mostrar la frecuencia en el medio\n",
    "- x, y frecuencia marginal\n",
    "- contigencia marginal. Se centra en la relación entre dos variables dada una tercera. Puedes calcular porcentajes o proporciones condicionales para analizar cómo cambia la relación entre las dos variables en función de la tercera.\n",
    "\n",
    "\n",
    "------\n",
    "Tabla de contingencia bidimensional:\r\n",
    "\r\n",
    "Es la forma más básica y común. Involucra dos variables y muestra la frecuencia con la que ocurre cada combinación de categorías.\r\n",
    "Tabla de contingencia tridimensional:\r\n",
    "\r\n",
    "Involucra tres variables y muestra la frecuencia de ocurrencia de cada combinación de categorías de las tres variables.\r\n",
    "Tabla de contingencia marginal:\r\n",
    "\r\n",
    "Incluye márgenes que muestran las frecuencias marginales para cada variable individual. Estos márgenes son útiles para analizar la distribución de cada variable por separado.\r\n",
    "Tabla de contingencia condicional:\r\n",
    "\r\n",
    "Se centra en la relación entre dos variables dada una tercera. Puedes calcular porcentajes o proporciones condicionales para analizar cómo cambia la relación entre las dos variables en función de la tercera.\r\n",
    "Tabla de contingencia acumulativa:\r\n",
    "\r\n",
    "Muestra las frecuencias acumulativas a medida que avanzas en las categorías de las variables. Puedes tener acumulativos por filas, por columnas o ambos.\r\n",
    "Tabla de contingencia estratificada:\r\n",
    "\r\n",
    "Se crea al dividir el conjunto de datos en subgrupos (estratos) y luego se construye una tabla de contingencia para cada estrato. Esto puede ayudar a identificar patrones específicos en subconjuntos de los datos."
   ]
  },
  {
   "cell_type": "code",
   "execution_count": null,
   "id": "c7323f0a-b8e5-484a-a6d5-8d4080692054",
   "metadata": {},
   "outputs": [],
   "source": []
  }
 ],
 "metadata": {
  "kernelspec": {
   "display_name": "Python 3 (ipykernel)",
   "language": "python",
   "name": "python3"
  },
  "language_info": {
   "codemirror_mode": {
    "name": "ipython",
    "version": 3
   },
   "file_extension": ".py",
   "mimetype": "text/x-python",
   "name": "python",
   "nbconvert_exporter": "python",
   "pygments_lexer": "ipython3",
   "version": "3.10.12"
  }
 },
 "nbformat": 4,
 "nbformat_minor": 5
}
