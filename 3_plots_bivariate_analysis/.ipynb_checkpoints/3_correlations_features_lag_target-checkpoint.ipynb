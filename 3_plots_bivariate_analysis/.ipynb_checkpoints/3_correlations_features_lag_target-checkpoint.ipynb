{
 "cells": [
  {
   "cell_type": "markdown",
   "id": "d6903d06-c7a4-43b7-b99b-3b075cb59636",
   "metadata": {},
   "source": [
    "# Correlations - pearson\n",
    "Content\n",
    "1) All dataframe\n",
    "- Correlation pearson\n",
    "- Correlation peason - upper triangular matrix\n",
    "- Correlation pearson - filtering by threshold\n",
    "\n",
    "2) All dataframe against a target\n",
    "- Correlation pearson"
   ]
  },
  {
   "cell_type": "code",
   "execution_count": null,
   "id": "88404dc0-445a-421c-9b69-15aa7c178e3e",
   "metadata": {},
   "outputs": [],
   "source": []
  },
  {
   "cell_type": "code",
   "execution_count": 1,
   "id": "6f0e34cb-1e1b-4721-acbe-421ab6449dab",
   "metadata": {},
   "outputs": [
    {
     "name": "stdout",
     "output_type": "stream",
     "text": [
      "root path:  D:\\github-mi-repo\\Exploratory-data-analysis\n"
     ]
    }
   ],
   "source": [
    "import os\n",
    "# fix root path to save outputs\n",
    "actual_path = os.path.abspath(os.getcwd())\n",
    "list_root_path = actual_path.split('\\\\')[:-1]\n",
    "root_path = '\\\\'.join(list_root_path)\n",
    "os.chdir(root_path)\n",
    "print('root path: ', root_path)"
   ]
  },
  {
   "cell_type": "markdown",
   "id": "62bcd08e-29d2-4eec-8de0-40fa871442a5",
   "metadata": {},
   "source": [
    "### 0. Package and load data\n",
    "**Dataset: Tensorflow climate**e"
   ]
  },
  {
   "cell_type": "code",
   "execution_count": 2,
   "id": "9e4191dd-548e-474c-8d0b-b1187c79ec46",
   "metadata": {},
   "outputs": [],
   "source": [
    "import tensorflow as tf\n",
    "import os\n",
    "import numpy as np\n",
    "import pandas as pd\n",
    "\n",
    "import matplotlib.pyplot as plt\n",
    "from statsmodels.graphics import tsaplots\n",
    "\n",
    "\n",
    "# plotly\n",
    "import plotly\n",
    "import plotly.express as px\n",
    "import plotly.graph_objects as go\n",
    "import plotly.io as pio\n",
    "from plotly.subplots import make_subplots"
   ]
  },
  {
   "cell_type": "code",
   "execution_count": 3,
   "id": "530a1dec-ca85-405b-ba77-ccfabf910c97",
   "metadata": {},
   "outputs": [],
   "source": [
    "# get data\n",
    "zip_path = tf.keras.utils.get_file(\n",
    "    origin='https://storage.googleapis.com/tensorflow/tf-keras-datasets/jena_climate_2009_2016.csv.zip',\n",
    "    fname='jena_climate_2009_2016.csv.zip',\n",
    "    extract=True)\n",
    "csv_path, _ = os.path.splitext(zip_path)\n",
    "\n",
    "# read data\n",
    "data = pd.read_csv(csv_path)\n",
    "\n",
    "# transform index into datetime format\n",
    "index_datetime = pd.to_datetime(data.pop('Date Time'), format='%d.%m.%Y %H:%M:%S')\n",
    "\n",
    "# set datetime as index\n",
    "data.set_index(index_datetime, inplace =  True)"
   ]
  },
  {
   "cell_type": "code",
   "execution_count": 4,
   "id": "3490ec29-e788-46bb-90a5-a5d017626168",
   "metadata": {},
   "outputs": [
    {
     "data": {
      "text/html": [
       "<div>\n",
       "<style scoped>\n",
       "    .dataframe tbody tr th:only-of-type {\n",
       "        vertical-align: middle;\n",
       "    }\n",
       "\n",
       "    .dataframe tbody tr th {\n",
       "        vertical-align: top;\n",
       "    }\n",
       "\n",
       "    .dataframe thead th {\n",
       "        text-align: right;\n",
       "    }\n",
       "</style>\n",
       "<table border=\"1\" class=\"dataframe\">\n",
       "  <thead>\n",
       "    <tr style=\"text-align: right;\">\n",
       "      <th></th>\n",
       "      <th>p (mbar)</th>\n",
       "      <th>T (degC)</th>\n",
       "      <th>Tpot (K)</th>\n",
       "      <th>Tdew (degC)</th>\n",
       "      <th>rh (%)</th>\n",
       "      <th>VPmax (mbar)</th>\n",
       "      <th>VPact (mbar)</th>\n",
       "      <th>VPdef (mbar)</th>\n",
       "      <th>sh (g/kg)</th>\n",
       "      <th>H2OC (mmol/mol)</th>\n",
       "      <th>rho (g/m**3)</th>\n",
       "      <th>wv (m/s)</th>\n",
       "      <th>max. wv (m/s)</th>\n",
       "      <th>wd (deg)</th>\n",
       "    </tr>\n",
       "    <tr>\n",
       "      <th>Date Time</th>\n",
       "      <th></th>\n",
       "      <th></th>\n",
       "      <th></th>\n",
       "      <th></th>\n",
       "      <th></th>\n",
       "      <th></th>\n",
       "      <th></th>\n",
       "      <th></th>\n",
       "      <th></th>\n",
       "      <th></th>\n",
       "      <th></th>\n",
       "      <th></th>\n",
       "      <th></th>\n",
       "      <th></th>\n",
       "    </tr>\n",
       "  </thead>\n",
       "  <tbody>\n",
       "    <tr>\n",
       "      <th>2009-01-01 00:10:00</th>\n",
       "      <td>996.52</td>\n",
       "      <td>-8.02</td>\n",
       "      <td>265.40</td>\n",
       "      <td>-8.90</td>\n",
       "      <td>93.3</td>\n",
       "      <td>3.33</td>\n",
       "      <td>3.11</td>\n",
       "      <td>0.22</td>\n",
       "      <td>1.94</td>\n",
       "      <td>3.12</td>\n",
       "      <td>1307.75</td>\n",
       "      <td>1.03</td>\n",
       "      <td>1.75</td>\n",
       "      <td>152.3</td>\n",
       "    </tr>\n",
       "    <tr>\n",
       "      <th>2009-01-01 00:20:00</th>\n",
       "      <td>996.57</td>\n",
       "      <td>-8.41</td>\n",
       "      <td>265.01</td>\n",
       "      <td>-9.28</td>\n",
       "      <td>93.4</td>\n",
       "      <td>3.23</td>\n",
       "      <td>3.02</td>\n",
       "      <td>0.21</td>\n",
       "      <td>1.89</td>\n",
       "      <td>3.03</td>\n",
       "      <td>1309.80</td>\n",
       "      <td>0.72</td>\n",
       "      <td>1.50</td>\n",
       "      <td>136.1</td>\n",
       "    </tr>\n",
       "    <tr>\n",
       "      <th>2009-01-01 00:30:00</th>\n",
       "      <td>996.53</td>\n",
       "      <td>-8.51</td>\n",
       "      <td>264.91</td>\n",
       "      <td>-9.31</td>\n",
       "      <td>93.9</td>\n",
       "      <td>3.21</td>\n",
       "      <td>3.01</td>\n",
       "      <td>0.20</td>\n",
       "      <td>1.88</td>\n",
       "      <td>3.02</td>\n",
       "      <td>1310.24</td>\n",
       "      <td>0.19</td>\n",
       "      <td>0.63</td>\n",
       "      <td>171.6</td>\n",
       "    </tr>\n",
       "    <tr>\n",
       "      <th>2009-01-01 00:40:00</th>\n",
       "      <td>996.51</td>\n",
       "      <td>-8.31</td>\n",
       "      <td>265.12</td>\n",
       "      <td>-9.07</td>\n",
       "      <td>94.2</td>\n",
       "      <td>3.26</td>\n",
       "      <td>3.07</td>\n",
       "      <td>0.19</td>\n",
       "      <td>1.92</td>\n",
       "      <td>3.08</td>\n",
       "      <td>1309.19</td>\n",
       "      <td>0.34</td>\n",
       "      <td>0.50</td>\n",
       "      <td>198.0</td>\n",
       "    </tr>\n",
       "    <tr>\n",
       "      <th>2009-01-01 00:50:00</th>\n",
       "      <td>996.51</td>\n",
       "      <td>-8.27</td>\n",
       "      <td>265.15</td>\n",
       "      <td>-9.04</td>\n",
       "      <td>94.1</td>\n",
       "      <td>3.27</td>\n",
       "      <td>3.08</td>\n",
       "      <td>0.19</td>\n",
       "      <td>1.92</td>\n",
       "      <td>3.09</td>\n",
       "      <td>1309.00</td>\n",
       "      <td>0.32</td>\n",
       "      <td>0.63</td>\n",
       "      <td>214.3</td>\n",
       "    </tr>\n",
       "  </tbody>\n",
       "</table>\n",
       "</div>"
      ],
      "text/plain": [
       "                     p (mbar)  T (degC)  Tpot (K)  Tdew (degC)  rh (%)  \\\n",
       "Date Time                                                                \n",
       "2009-01-01 00:10:00    996.52     -8.02    265.40        -8.90    93.3   \n",
       "2009-01-01 00:20:00    996.57     -8.41    265.01        -9.28    93.4   \n",
       "2009-01-01 00:30:00    996.53     -8.51    264.91        -9.31    93.9   \n",
       "2009-01-01 00:40:00    996.51     -8.31    265.12        -9.07    94.2   \n",
       "2009-01-01 00:50:00    996.51     -8.27    265.15        -9.04    94.1   \n",
       "\n",
       "                     VPmax (mbar)  VPact (mbar)  VPdef (mbar)  sh (g/kg)  \\\n",
       "Date Time                                                                  \n",
       "2009-01-01 00:10:00          3.33          3.11          0.22       1.94   \n",
       "2009-01-01 00:20:00          3.23          3.02          0.21       1.89   \n",
       "2009-01-01 00:30:00          3.21          3.01          0.20       1.88   \n",
       "2009-01-01 00:40:00          3.26          3.07          0.19       1.92   \n",
       "2009-01-01 00:50:00          3.27          3.08          0.19       1.92   \n",
       "\n",
       "                     H2OC (mmol/mol)  rho (g/m**3)  wv (m/s)  max. wv (m/s)  \\\n",
       "Date Time                                                                     \n",
       "2009-01-01 00:10:00             3.12       1307.75      1.03           1.75   \n",
       "2009-01-01 00:20:00             3.03       1309.80      0.72           1.50   \n",
       "2009-01-01 00:30:00             3.02       1310.24      0.19           0.63   \n",
       "2009-01-01 00:40:00             3.08       1309.19      0.34           0.50   \n",
       "2009-01-01 00:50:00             3.09       1309.00      0.32           0.63   \n",
       "\n",
       "                     wd (deg)  \n",
       "Date Time                      \n",
       "2009-01-01 00:10:00     152.3  \n",
       "2009-01-01 00:20:00     136.1  \n",
       "2009-01-01 00:30:00     171.6  \n",
       "2009-01-01 00:40:00     198.0  \n",
       "2009-01-01 00:50:00     214.3  "
      ]
     },
     "execution_count": 4,
     "metadata": {},
     "output_type": "execute_result"
    }
   ],
   "source": [
    "data.head()"
   ]
  },
  {
   "cell_type": "code",
   "execution_count": null,
   "id": "ae79575d-283e-454e-bbd8-47823db9e6b6",
   "metadata": {},
   "outputs": [],
   "source": []
  },
  {
   "cell_type": "markdown",
   "id": "a90c2a63-8bf5-416a-ba3d-805377c7434a",
   "metadata": {},
   "source": [
    "## Correlations - pearson - lag\n",
    "- Correlation pearson all features lagged againts a target"
   ]
  },
  {
   "cell_type": "markdown",
   "id": "a3f71513-aaf0-4222-ae94-0e4aa6bb4be0",
   "metadata": {},
   "source": [
    "#### 1. Codes to generate the EDA (numbers)"
   ]
  },
  {
   "cell_type": "code",
   "execution_count": null,
   "id": "226eb5fb-a64f-4d09-a7a3-ef2d91170d78",
   "metadata": {},
   "outputs": [],
   "source": []
  },
  {
   "cell_type": "code",
   "execution_count": null,
   "id": "e126fd8e-56fa-41cb-be38-5a002e03d431",
   "metadata": {},
   "outputs": [],
   "source": []
  },
  {
   "cell_type": "code",
   "execution_count": null,
   "id": "2ab92421-0d8f-4637-89ad-6d94cb9a9104",
   "metadata": {},
   "outputs": [],
   "source": []
  },
  {
   "cell_type": "markdown",
   "id": "6adecfd0-65e3-4b93-8b08-c68e15b02b4c",
   "metadata": {},
   "source": [
    "#### 2. Codes to synthesize the analysis"
   ]
  },
  {
   "cell_type": "code",
   "execution_count": 5,
   "id": "6b1afea8-6fcf-42ae-a412-5c34bcfa1465",
   "metadata": {},
   "outputs": [],
   "source": [
    "def calculate_corr_features_lag_target(df, target, lags):\n",
    "    \"\"\"\n",
    "    Calculate correlation of each feature againt a target. Each correlation is calculated with the feature lagged differents instance of time\n",
    "    Ex. corr target vs feature1 (lag) with lag [0, 1, 2, ..., n]\n",
    "    \n",
    "    Args\n",
    "        df (dataframe): input dataframe\n",
    "        target (string): name of the target. the target needs to be inside the dataframe df\n",
    "        lags (integer): number of lags to apply to calculate the correlations\n",
    "    \n",
    "    Return\n",
    "        df_corr_lags(dataframe): dataframe with the correlations of the features lagged against a target\n",
    "    \"\"\"\n",
    "    # initialize dataframe with correlations with lags in the features. row: lags // columns: features\n",
    "    df_corr_lags = pd.DataFrame()\n",
    "    \n",
    "    # create a column additional (target_shift) that is a clone of the target. see the correlation of the target with itself (autocorrelation)\n",
    "    df[target + '_shift'] = df[target]\n",
    "    \n",
    "    # define list feature and list target. Only list_feature is lagged\n",
    "    list_all = df.columns.tolist()\n",
    "    list_features = list(set(df.columns.tolist()) - set([target]))\n",
    "    list_target = [target]\n",
    "\n",
    "    # calculate correlation\n",
    "    df_original_data = df.copy()\n",
    "    for lag in range(lags+1):\n",
    "        # verbose\n",
    "        if lag % 20 == 0:\n",
    "            print(f'calculating corr with lag: {lag}')\n",
    "        \n",
    "        # lag the data\n",
    "        df_shifted = df_original_data[list_features].shift(lag)\n",
    "        df_shifted[list_target] = df_original_data[list_target]\n",
    "        df_shifted = df_shifted[list_all]\n",
    "        \n",
    "        # calculate correlation feature lagged against the target\n",
    "        aux_corr_lags = df_shifted.corr()[list_target].T.reset_index(drop = True)\n",
    "        aux_corr_lags.index = [lag]\n",
    "        \n",
    "        # save results\n",
    "        df_corr_lags = pd.concat([df_corr_lags, aux_corr_lags])\n",
    "\n",
    "    # round correlation with 3 decimals\n",
    "    df_corr_lags = np.round(df_corr_lags, 3)\n",
    "    \n",
    "    return df_corr_lags"
   ]
  },
  {
   "cell_type": "code",
   "execution_count": null,
   "id": "0e4ca8ad-56f5-40f3-af7e-71ae2d9dd76a",
   "metadata": {},
   "outputs": [],
   "source": []
  },
  {
   "cell_type": "code",
   "execution_count": 6,
   "id": "06782e2f-827c-425d-a5f1-749d026eae0a",
   "metadata": {},
   "outputs": [],
   "source": [
    "def plot_corr_lags_old(df_corr_lags):\n",
    "    \"\"\"\n",
    "    Dado un dataframe con auto correlaciones filas: lags // columnas: tags.\n",
    "    Hacer diferentes plots (uno por tag) para mostrar la tendencia de los valores de autocorrelación calculados para cada uno de los lags\n",
    "    \"\"\"\n",
    "\n",
    "    # Obtener la lista de variables\n",
    "    variables = df_corr_lags.columns.tolist()\n",
    "\n",
    "    # Crear los subplots\n",
    "    fig = make_subplots(rows=len(variables), cols=1, shared_xaxes=False, subplot_titles=variables)\n",
    "\n",
    "    # Agregar cada autocorrelación al subplot correspondiente\n",
    "    for i, variable in enumerate(variables):\n",
    "        fig.add_trace(go.Scatter(x=df_corr_lags.index, y=df_corr_lags[variable], name=variable), row=i+1, col=1)\n",
    "\n",
    "    # Actualizar el layout de los subplots\n",
    "    fig.update_layout(height=len(variables)*250, width=1600, title_text=\"Tendencia de Correlación con Lags\")\n",
    "\n",
    "    # Actualizar los títulos de los ejes x en cada subplot\n",
    "    # for i in range(len(variables)):\n",
    "    #     fig.update_xaxes(title_text=\"Lags\", row=i+1, col=1, autorange=\"reversed\")\n",
    "    #     fig.update_yaxes(title_text=\"Autocorrelación\", row=i+1, col=1)\n",
    "\n",
    "    return fig\n",
    "\n",
    "\n",
    "def plot_corr_features_lag_target(df_corr_lags, number_columns=2):\n",
    "    \"\"\"\n",
    "    Plot correlation of each feature againt a target. Each correlation is calculated with the feature lagged differents instance of time\n",
    "    The plot is a line. Axis y: corr. Axis x: lag\n",
    "\n",
    "    Args\n",
    "        df_corr_lags(dataframe): dataframe with the correlations of the features lagged against a target\n",
    "        number_columns (int): number columns in the plot\n",
    "\n",
    "    Return\n",
    "        fig (figure plotly): fig of plotly with the plot generated \n",
    "\n",
    "    TODO:\n",
    "        - inverter the y axis when the correlation is negative\n",
    "    \"\"\"\n",
    "\n",
    "    # get list of features\n",
    "    list_features = df_corr_lags.columns.tolist()\n",
    "\n",
    "    # get number of rows (number row = number of data / number of columns) (considering fixed the number of columns) \n",
    "    if (df_corr_lags.shape[1] % number_columns) != 0:\n",
    "        number_rows = (df_corr_lags.shape[1] // number_columns) + 1 \n",
    "    else:\n",
    "        number_rows = (df_corr_lags.shape[1] // number_columns)\n",
    "\n",
    "\n",
    "    ############################## \n",
    "    # create subplots\n",
    "    fig = make_subplots(rows = number_rows, \n",
    "                        cols = number_columns, \n",
    "                        subplot_titles = tuple(list_features),\n",
    "                        shared_xaxes = False\n",
    "                       )\n",
    "\n",
    "    # add subplot for each of the features -> feature\n",
    "    for index_feature, feature in enumerate(list_features):\n",
    "    \n",
    "        # obtener índices en el subplot (en plotly los índices comienzan en 1, por lo que debe sumarse un 1 a los resultados obtenidos)\n",
    "        row = (index_feature // number_columns) + 1\n",
    "        column = (index_feature % number_columns) + 1\n",
    "\n",
    "        # subplot each feature\n",
    "        fig.add_trace(go.Scatter(\n",
    "            x = df_corr_lags.index, \n",
    "            y = df_corr_lags[feature],\n",
    "            name = feature\n",
    "            ), \n",
    "        row = row, \n",
    "        col = column\n",
    "        )\n",
    "\n",
    "        # add y label and x label each subplot\n",
    "        fig.update_xaxes(title_text = \"Lag\", row = row, col = column)\n",
    "        fig.update_yaxes(title_text = \"Correlation\", row  =row, col = column)\n",
    "    \n",
    "    # change shape subplot\n",
    "    fig.update_layout(\n",
    "            height = 350 * number_rows, # largo\n",
    "            width = 850 * number_columns, # ancho\n",
    "      title_text=\"Plots of correlations features lagged against the target\",\n",
    "      title_x = 0.5, # centrar titulo\n",
    "      title_font = dict(size = 28)\n",
    "      )\n",
    "\n",
    "\n",
    "    # Actualizar los títulos de los ejes x en cada subplot\n",
    "    # for i in range(len(variables)):\n",
    "    #     fig.update_xaxes(title_text=\"Lags\", row=i+1, col=1, autorange=\"reversed\")\n",
    "    #     fig.update_yaxes(title_text=\"Autocorrelación\", row=i+1, col=1)\n",
    "    ############################## \n",
    "    \n",
    "    return fig"
   ]
  },
  {
   "cell_type": "code",
   "execution_count": null,
   "id": "e3fcb2b3-e9f9-40c4-bbb1-0b6e6783551e",
   "metadata": {},
   "outputs": [],
   "source": []
  },
  {
   "cell_type": "code",
   "execution_count": 8,
   "id": "93b43a28-00fb-4837-a26f-ded1b7b45730",
   "metadata": {},
   "outputs": [
    {
     "name": "stdout",
     "output_type": "stream",
     "text": [
      "calculating corr with lag: 0\n",
      "calculating corr with lag: 20\n",
      "calculating corr with lag: 40\n"
     ]
    },
    {
     "data": {
      "application/vnd.plotly.v1+json": {
       "config": {
        "plotlyServerURL": "https://plot.ly"
       },
       "data": [
        {
         "name": "p (mbar)",
         "type": "scatter",
         "x": [
          0,
          1,
          2,
          3,
          4,
          5,
          6,
          7,
          8,
          9,
          10,
          11,
          12,
          13,
          14,
          15,
          16,
          17,
          18,
          19,
          20,
          21,
          22,
          23,
          24,
          25,
          26,
          27,
          28,
          29,
          30,
          31,
          32,
          33,
          34,
          35,
          36,
          37,
          38,
          39,
          40
         ],
         "xaxis": "x",
         "y": [
          -0.045,
          -0.045,
          -0.044,
          -0.043,
          -0.043,
          -0.042,
          -0.041,
          -0.04,
          -0.04,
          -0.039,
          -0.038,
          -0.037,
          -0.036,
          -0.035,
          -0.035,
          -0.034,
          -0.033,
          -0.032,
          -0.031,
          -0.03,
          -0.029,
          -0.029,
          -0.028,
          -0.027,
          -0.026,
          -0.025,
          -0.024,
          -0.024,
          -0.023,
          -0.022,
          -0.021,
          -0.02,
          -0.02,
          -0.019,
          -0.018,
          -0.017,
          -0.017,
          -0.016,
          -0.015,
          -0.014,
          -0.014
         ],
         "yaxis": "y"
        },
        {
         "name": "T (degC)",
         "type": "scatter",
         "x": [
          0,
          1,
          2,
          3,
          4,
          5,
          6,
          7,
          8,
          9,
          10,
          11,
          12,
          13,
          14,
          15,
          16,
          17,
          18,
          19,
          20,
          21,
          22,
          23,
          24,
          25,
          26,
          27,
          28,
          29,
          30,
          31,
          32,
          33,
          34,
          35,
          36,
          37,
          38,
          39,
          40
         ],
         "xaxis": "x2",
         "y": [
          1,
          1,
          1,
          1,
          1,
          1,
          1,
          1,
          1,
          1,
          1,
          1,
          1,
          1,
          1,
          1,
          1,
          1,
          1,
          1,
          1,
          1,
          1,
          1,
          1,
          1,
          1,
          1,
          1,
          1,
          1,
          1,
          1,
          1,
          1,
          1,
          1,
          1,
          1,
          1,
          1
         ],
         "yaxis": "y2"
        },
        {
         "name": "Tpot (K)",
         "type": "scatter",
         "x": [
          0,
          1,
          2,
          3,
          4,
          5,
          6,
          7,
          8,
          9,
          10,
          11,
          12,
          13,
          14,
          15,
          16,
          17,
          18,
          19,
          20,
          21,
          22,
          23,
          24,
          25,
          26,
          27,
          28,
          29,
          30,
          31,
          32,
          33,
          34,
          35,
          36,
          37,
          38,
          39,
          40
         ],
         "xaxis": "x3",
         "y": [
          0.997,
          0.996,
          0.995,
          0.994,
          0.993,
          0.991,
          0.989,
          0.987,
          0.985,
          0.982,
          0.979,
          0.976,
          0.973,
          0.97,
          0.967,
          0.963,
          0.959,
          0.955,
          0.951,
          0.947,
          0.943,
          0.938,
          0.934,
          0.929,
          0.925,
          0.92,
          0.915,
          0.911,
          0.906,
          0.901,
          0.896,
          0.891,
          0.887,
          0.882,
          0.877,
          0.872,
          0.867,
          0.863,
          0.858,
          0.853,
          0.849
         ],
         "yaxis": "y3"
        },
        {
         "name": "Tdew (degC)",
         "type": "scatter",
         "x": [
          0,
          1,
          2,
          3,
          4,
          5,
          6,
          7,
          8,
          9,
          10,
          11,
          12,
          13,
          14,
          15,
          16,
          17,
          18,
          19,
          20,
          21,
          22,
          23,
          24,
          25,
          26,
          27,
          28,
          29,
          30,
          31,
          32,
          33,
          34,
          35,
          36,
          37,
          38,
          39,
          40
         ],
         "xaxis": "x4",
         "y": [
          0.896,
          0.896,
          0.896,
          0.896,
          0.895,
          0.895,
          0.895,
          0.894,
          0.894,
          0.893,
          0.893,
          0.892,
          0.891,
          0.891,
          0.89,
          0.889,
          0.888,
          0.887,
          0.886,
          0.885,
          0.884,
          0.883,
          0.882,
          0.881,
          0.879,
          0.878,
          0.877,
          0.876,
          0.875,
          0.874,
          0.872,
          0.871,
          0.87,
          0.869,
          0.868,
          0.867,
          0.865,
          0.864,
          0.863,
          0.862,
          0.861
         ],
         "yaxis": "y4"
        },
        {
         "name": "rh (%)",
         "type": "scatter",
         "x": [
          0,
          1,
          2,
          3,
          4,
          5,
          6,
          7,
          8,
          9,
          10,
          11,
          12,
          13,
          14,
          15,
          16,
          17,
          18,
          19,
          20,
          21,
          22,
          23,
          24,
          25,
          26,
          27,
          28,
          29,
          30,
          31,
          32,
          33,
          34,
          35,
          36,
          37,
          38,
          39,
          40
         ],
         "xaxis": "x5",
         "y": [
          -0.572,
          -0.571,
          -0.569,
          -0.567,
          -0.564,
          -0.561,
          -0.558,
          -0.554,
          -0.55,
          -0.545,
          -0.54,
          -0.535,
          -0.529,
          -0.524,
          -0.517,
          -0.511,
          -0.505,
          -0.498,
          -0.491,
          -0.483,
          -0.476,
          -0.468,
          -0.461,
          -0.453,
          -0.445,
          -0.437,
          -0.429,
          -0.421,
          -0.412,
          -0.404,
          -0.396,
          -0.387,
          -0.379,
          -0.37,
          -0.362,
          -0.354,
          -0.346,
          -0.337,
          -0.329,
          -0.321,
          -0.313
         ],
         "yaxis": "y5"
        },
        {
         "name": "VPmax (mbar)",
         "type": "scatter",
         "x": [
          0,
          1,
          2,
          3,
          4,
          5,
          6,
          7,
          8,
          9,
          10,
          11,
          12,
          13,
          14,
          15,
          16,
          17,
          18,
          19,
          20,
          21,
          22,
          23,
          24,
          25,
          26,
          27,
          28,
          29,
          30,
          31,
          32,
          33,
          34,
          35,
          36,
          37,
          38,
          39,
          40
         ],
         "xaxis": "x6",
         "y": [
          0.951,
          0.951,
          0.95,
          0.948,
          0.947,
          0.945,
          0.943,
          0.94,
          0.938,
          0.935,
          0.932,
          0.928,
          0.925,
          0.921,
          0.917,
          0.913,
          0.909,
          0.905,
          0.9,
          0.895,
          0.891,
          0.886,
          0.881,
          0.875,
          0.87,
          0.865,
          0.86,
          0.854,
          0.849,
          0.843,
          0.838,
          0.832,
          0.827,
          0.821,
          0.815,
          0.81,
          0.804,
          0.799,
          0.793,
          0.788,
          0.783
         ],
         "yaxis": "y6"
        },
        {
         "name": "VPact (mbar)",
         "type": "scatter",
         "x": [
          0,
          1,
          2,
          3,
          4,
          5,
          6,
          7,
          8,
          9,
          10,
          11,
          12,
          13,
          14,
          15,
          16,
          17,
          18,
          19,
          20,
          21,
          22,
          23,
          24,
          25,
          26,
          27,
          28,
          29,
          30,
          31,
          32,
          33,
          34,
          35,
          36,
          37,
          38,
          39,
          40
         ],
         "xaxis": "x7",
         "y": [
          0.868,
          0.868,
          0.868,
          0.868,
          0.868,
          0.867,
          0.867,
          0.867,
          0.866,
          0.866,
          0.865,
          0.864,
          0.864,
          0.863,
          0.862,
          0.861,
          0.86,
          0.859,
          0.858,
          0.857,
          0.856,
          0.855,
          0.854,
          0.853,
          0.852,
          0.851,
          0.849,
          0.848,
          0.847,
          0.846,
          0.845,
          0.844,
          0.842,
          0.841,
          0.84,
          0.839,
          0.838,
          0.837,
          0.835,
          0.834,
          0.833
         ],
         "yaxis": "y7"
        },
        {
         "name": "VPdef (mbar)",
         "type": "scatter",
         "x": [
          0,
          1,
          2,
          3,
          4,
          5,
          6,
          7,
          8,
          9,
          10,
          11,
          12,
          13,
          14,
          15,
          16,
          17,
          18,
          19,
          20,
          21,
          22,
          23,
          24,
          25,
          26,
          27,
          28,
          29,
          30,
          31,
          32,
          33,
          34,
          35,
          36,
          37,
          38,
          39,
          40
         ],
         "xaxis": "x8",
         "y": [
          0.762,
          0.761,
          0.759,
          0.757,
          0.755,
          0.752,
          0.749,
          0.746,
          0.742,
          0.738,
          0.733,
          0.729,
          0.724,
          0.719,
          0.713,
          0.707,
          0.702,
          0.695,
          0.689,
          0.682,
          0.676,
          0.669,
          0.662,
          0.655,
          0.648,
          0.64,
          0.633,
          0.625,
          0.618,
          0.61,
          0.602,
          0.594,
          0.587,
          0.579,
          0.571,
          0.563,
          0.555,
          0.548,
          0.54,
          0.532,
          0.525
         ],
         "yaxis": "y8"
        },
        {
         "name": "sh (g/kg)",
         "type": "scatter",
         "x": [
          0,
          1,
          2,
          3,
          4,
          5,
          6,
          7,
          8,
          9,
          10,
          11,
          12,
          13,
          14,
          15,
          16,
          17,
          18,
          19,
          20,
          21,
          22,
          23,
          24,
          25,
          26,
          27,
          28,
          29,
          30,
          31,
          32,
          33,
          34,
          35,
          36,
          37,
          38,
          39,
          40
         ],
         "xaxis": "x9",
         "y": [
          0.867,
          0.867,
          0.867,
          0.867,
          0.867,
          0.866,
          0.866,
          0.866,
          0.865,
          0.865,
          0.864,
          0.863,
          0.863,
          0.862,
          0.861,
          0.86,
          0.859,
          0.858,
          0.857,
          0.856,
          0.855,
          0.854,
          0.853,
          0.852,
          0.85,
          0.849,
          0.848,
          0.847,
          0.846,
          0.845,
          0.843,
          0.842,
          0.841,
          0.84,
          0.839,
          0.837,
          0.836,
          0.835,
          0.834,
          0.833,
          0.832
         ],
         "yaxis": "y9"
        },
        {
         "name": "H2OC (mmol/mol)",
         "type": "scatter",
         "x": [
          0,
          1,
          2,
          3,
          4,
          5,
          6,
          7,
          8,
          9,
          10,
          11,
          12,
          13,
          14,
          15,
          16,
          17,
          18,
          19,
          20,
          21,
          22,
          23,
          24,
          25,
          26,
          27,
          28,
          29,
          30,
          31,
          32,
          33,
          34,
          35,
          36,
          37,
          38,
          39,
          40
         ],
         "xaxis": "x10",
         "y": [
          0.867,
          0.867,
          0.867,
          0.867,
          0.867,
          0.867,
          0.866,
          0.866,
          0.866,
          0.865,
          0.864,
          0.864,
          0.863,
          0.862,
          0.861,
          0.86,
          0.859,
          0.858,
          0.857,
          0.856,
          0.855,
          0.854,
          0.853,
          0.852,
          0.851,
          0.85,
          0.848,
          0.847,
          0.846,
          0.845,
          0.844,
          0.843,
          0.841,
          0.84,
          0.839,
          0.838,
          0.837,
          0.836,
          0.834,
          0.833,
          0.832
         ],
         "yaxis": "y10"
        },
        {
         "name": "rho (g/m**3)",
         "type": "scatter",
         "x": [
          0,
          1,
          2,
          3,
          4,
          5,
          6,
          7,
          8,
          9,
          10,
          11,
          12,
          13,
          14,
          15,
          16,
          17,
          18,
          19,
          20,
          21,
          22,
          23,
          24,
          25,
          26,
          27,
          28,
          29,
          30,
          31,
          32,
          33,
          34,
          35,
          36,
          37,
          38,
          39,
          40
         ],
         "xaxis": "x11",
         "y": [
          -0.963,
          -0.963,
          -0.962,
          -0.961,
          -0.959,
          -0.958,
          -0.956,
          -0.954,
          -0.952,
          -0.949,
          -0.946,
          -0.944,
          -0.941,
          -0.937,
          -0.934,
          -0.931,
          -0.927,
          -0.923,
          -0.92,
          -0.916,
          -0.912,
          -0.907,
          -0.903,
          -0.899,
          -0.895,
          -0.89,
          -0.886,
          -0.881,
          -0.877,
          -0.873,
          -0.868,
          -0.864,
          -0.859,
          -0.854,
          -0.85,
          -0.846,
          -0.841,
          -0.837,
          -0.832,
          -0.828,
          -0.824
         ],
         "yaxis": "y11"
        },
        {
         "name": "wv (m/s)",
         "type": "scatter",
         "x": [
          0,
          1,
          2,
          3,
          4,
          5,
          6,
          7,
          8,
          9,
          10,
          11,
          12,
          13,
          14,
          15,
          16,
          17,
          18,
          19,
          20,
          21,
          22,
          23,
          24,
          25,
          26,
          27,
          28,
          29,
          30,
          31,
          32,
          33,
          34,
          35,
          36,
          37,
          38,
          39,
          40
         ],
         "xaxis": "x12",
         "y": [
          -0.005,
          -0.005,
          -0.005,
          -0.005,
          -0.005,
          -0.005,
          -0.005,
          -0.005,
          -0.005,
          -0.005,
          -0.005,
          -0.005,
          -0.006,
          -0.006,
          -0.006,
          -0.006,
          -0.006,
          -0.006,
          -0.006,
          -0.006,
          -0.006,
          -0.006,
          -0.006,
          -0.006,
          -0.006,
          -0.006,
          -0.006,
          -0.006,
          -0.006,
          -0.006,
          -0.006,
          -0.006,
          -0.006,
          -0.006,
          -0.006,
          -0.006,
          -0.006,
          -0.006,
          -0.006,
          -0.006,
          -0.006
         ],
         "yaxis": "y12"
        },
        {
         "name": "max. wv (m/s)",
         "type": "scatter",
         "x": [
          0,
          1,
          2,
          3,
          4,
          5,
          6,
          7,
          8,
          9,
          10,
          11,
          12,
          13,
          14,
          15,
          16,
          17,
          18,
          19,
          20,
          21,
          22,
          23,
          24,
          25,
          26,
          27,
          28,
          29,
          30,
          31,
          32,
          33,
          34,
          35,
          36,
          37,
          38,
          39,
          40
         ],
         "xaxis": "x13",
         "y": [
          -0.003,
          -0.003,
          -0.003,
          -0.003,
          -0.003,
          -0.003,
          -0.003,
          -0.003,
          -0.003,
          -0.003,
          -0.004,
          -0.004,
          -0.004,
          -0.004,
          -0.004,
          -0.004,
          -0.004,
          -0.004,
          -0.005,
          -0.005,
          -0.005,
          -0.005,
          -0.005,
          -0.005,
          -0.005,
          -0.005,
          -0.005,
          -0.005,
          -0.005,
          -0.005,
          -0.005,
          -0.005,
          -0.005,
          -0.005,
          -0.005,
          -0.005,
          -0.005,
          -0.005,
          -0.005,
          -0.006,
          -0.006
         ],
         "yaxis": "y13"
        },
        {
         "name": "wd (deg)",
         "type": "scatter",
         "x": [
          0,
          1,
          2,
          3,
          4,
          5,
          6,
          7,
          8,
          9,
          10,
          11,
          12,
          13,
          14,
          15,
          16,
          17,
          18,
          19,
          20,
          21,
          22,
          23,
          24,
          25,
          26,
          27,
          28,
          29,
          30,
          31,
          32,
          33,
          34,
          35,
          36,
          37,
          38,
          39,
          40
         ],
         "xaxis": "x14",
         "y": [
          0.039,
          0.038,
          0.036,
          0.035,
          0.033,
          0.032,
          0.031,
          0.03,
          0.029,
          0.028,
          0.027,
          0.026,
          0.026,
          0.025,
          0.025,
          0.025,
          0.024,
          0.024,
          0.024,
          0.024,
          0.024,
          0.024,
          0.024,
          0.025,
          0.025,
          0.025,
          0.025,
          0.026,
          0.026,
          0.027,
          0.027,
          0.028,
          0.028,
          0.029,
          0.03,
          0.03,
          0.031,
          0.032,
          0.033,
          0.034,
          0.035
         ],
         "yaxis": "y14"
        },
        {
         "name": "T (degC)_shift",
         "type": "scatter",
         "x": [
          0,
          1,
          2,
          3,
          4,
          5,
          6,
          7,
          8,
          9,
          10,
          11,
          12,
          13,
          14,
          15,
          16,
          17,
          18,
          19,
          20,
          21,
          22,
          23,
          24,
          25,
          26,
          27,
          28,
          29,
          30,
          31,
          32,
          33,
          34,
          35,
          36,
          37,
          38,
          39,
          40
         ],
         "xaxis": "x15",
         "y": [
          1,
          1,
          0.999,
          0.998,
          0.996,
          0.995,
          0.993,
          0.991,
          0.988,
          0.986,
          0.983,
          0.98,
          0.977,
          0.974,
          0.97,
          0.967,
          0.963,
          0.959,
          0.955,
          0.951,
          0.947,
          0.942,
          0.938,
          0.934,
          0.929,
          0.924,
          0.92,
          0.915,
          0.91,
          0.906,
          0.901,
          0.896,
          0.891,
          0.886,
          0.882,
          0.877,
          0.872,
          0.867,
          0.863,
          0.858,
          0.854
         ],
         "yaxis": "y15"
        }
       ],
       "layout": {
        "annotations": [
         {
          "font": {
           "size": 16
          },
          "showarrow": false,
          "text": "p (mbar)",
          "x": 0.225,
          "xanchor": "center",
          "xref": "paper",
          "y": 1,
          "yanchor": "bottom",
          "yref": "paper"
         },
         {
          "font": {
           "size": 16
          },
          "showarrow": false,
          "text": "T (degC)",
          "x": 0.775,
          "xanchor": "center",
          "xref": "paper",
          "y": 1,
          "yanchor": "bottom",
          "yref": "paper"
         },
         {
          "font": {
           "size": 16
          },
          "showarrow": false,
          "text": "Tpot (K)",
          "x": 0.225,
          "xanchor": "center",
          "xref": "paper",
          "y": 0.8671875,
          "yanchor": "bottom",
          "yref": "paper"
         },
         {
          "font": {
           "size": 16
          },
          "showarrow": false,
          "text": "Tdew (degC)",
          "x": 0.775,
          "xanchor": "center",
          "xref": "paper",
          "y": 0.8671875,
          "yanchor": "bottom",
          "yref": "paper"
         },
         {
          "font": {
           "size": 16
          },
          "showarrow": false,
          "text": "rh (%)",
          "x": 0.225,
          "xanchor": "center",
          "xref": "paper",
          "y": 0.734375,
          "yanchor": "bottom",
          "yref": "paper"
         },
         {
          "font": {
           "size": 16
          },
          "showarrow": false,
          "text": "VPmax (mbar)",
          "x": 0.775,
          "xanchor": "center",
          "xref": "paper",
          "y": 0.734375,
          "yanchor": "bottom",
          "yref": "paper"
         },
         {
          "font": {
           "size": 16
          },
          "showarrow": false,
          "text": "VPact (mbar)",
          "x": 0.225,
          "xanchor": "center",
          "xref": "paper",
          "y": 0.6015625,
          "yanchor": "bottom",
          "yref": "paper"
         },
         {
          "font": {
           "size": 16
          },
          "showarrow": false,
          "text": "VPdef (mbar)",
          "x": 0.775,
          "xanchor": "center",
          "xref": "paper",
          "y": 0.6015625,
          "yanchor": "bottom",
          "yref": "paper"
         },
         {
          "font": {
           "size": 16
          },
          "showarrow": false,
          "text": "sh (g/kg)",
          "x": 0.225,
          "xanchor": "center",
          "xref": "paper",
          "y": 0.46875,
          "yanchor": "bottom",
          "yref": "paper"
         },
         {
          "font": {
           "size": 16
          },
          "showarrow": false,
          "text": "H2OC (mmol/mol)",
          "x": 0.775,
          "xanchor": "center",
          "xref": "paper",
          "y": 0.46875,
          "yanchor": "bottom",
          "yref": "paper"
         },
         {
          "font": {
           "size": 16
          },
          "showarrow": false,
          "text": "rho (g/m**3)",
          "x": 0.225,
          "xanchor": "center",
          "xref": "paper",
          "y": 0.3359375,
          "yanchor": "bottom",
          "yref": "paper"
         },
         {
          "font": {
           "size": 16
          },
          "showarrow": false,
          "text": "wv (m/s)",
          "x": 0.775,
          "xanchor": "center",
          "xref": "paper",
          "y": 0.3359375,
          "yanchor": "bottom",
          "yref": "paper"
         },
         {
          "font": {
           "size": 16
          },
          "showarrow": false,
          "text": "max. wv (m/s)",
          "x": 0.225,
          "xanchor": "center",
          "xref": "paper",
          "y": 0.203125,
          "yanchor": "bottom",
          "yref": "paper"
         },
         {
          "font": {
           "size": 16
          },
          "showarrow": false,
          "text": "wd (deg)",
          "x": 0.775,
          "xanchor": "center",
          "xref": "paper",
          "y": 0.203125,
          "yanchor": "bottom",
          "yref": "paper"
         },
         {
          "font": {
           "size": 16
          },
          "showarrow": false,
          "text": "T (degC)_shift",
          "x": 0.225,
          "xanchor": "center",
          "xref": "paper",
          "y": 0.0703125,
          "yanchor": "bottom",
          "yref": "paper"
         }
        ],
        "height": 2800,
        "template": {
         "data": {
          "bar": [
           {
            "error_x": {
             "color": "#2a3f5f"
            },
            "error_y": {
             "color": "#2a3f5f"
            },
            "marker": {
             "line": {
              "color": "#E5ECF6",
              "width": 0.5
             },
             "pattern": {
              "fillmode": "overlay",
              "size": 10,
              "solidity": 0.2
             }
            },
            "type": "bar"
           }
          ],
          "barpolar": [
           {
            "marker": {
             "line": {
              "color": "#E5ECF6",
              "width": 0.5
             },
             "pattern": {
              "fillmode": "overlay",
              "size": 10,
              "solidity": 0.2
             }
            },
            "type": "barpolar"
           }
          ],
          "carpet": [
           {
            "aaxis": {
             "endlinecolor": "#2a3f5f",
             "gridcolor": "white",
             "linecolor": "white",
             "minorgridcolor": "white",
             "startlinecolor": "#2a3f5f"
            },
            "baxis": {
             "endlinecolor": "#2a3f5f",
             "gridcolor": "white",
             "linecolor": "white",
             "minorgridcolor": "white",
             "startlinecolor": "#2a3f5f"
            },
            "type": "carpet"
           }
          ],
          "choropleth": [
           {
            "colorbar": {
             "outlinewidth": 0,
             "ticks": ""
            },
            "type": "choropleth"
           }
          ],
          "contour": [
           {
            "colorbar": {
             "outlinewidth": 0,
             "ticks": ""
            },
            "colorscale": [
             [
              0,
              "#0d0887"
             ],
             [
              0.1111111111111111,
              "#46039f"
             ],
             [
              0.2222222222222222,
              "#7201a8"
             ],
             [
              0.3333333333333333,
              "#9c179e"
             ],
             [
              0.4444444444444444,
              "#bd3786"
             ],
             [
              0.5555555555555556,
              "#d8576b"
             ],
             [
              0.6666666666666666,
              "#ed7953"
             ],
             [
              0.7777777777777778,
              "#fb9f3a"
             ],
             [
              0.8888888888888888,
              "#fdca26"
             ],
             [
              1,
              "#f0f921"
             ]
            ],
            "type": "contour"
           }
          ],
          "contourcarpet": [
           {
            "colorbar": {
             "outlinewidth": 0,
             "ticks": ""
            },
            "type": "contourcarpet"
           }
          ],
          "heatmap": [
           {
            "colorbar": {
             "outlinewidth": 0,
             "ticks": ""
            },
            "colorscale": [
             [
              0,
              "#0d0887"
             ],
             [
              0.1111111111111111,
              "#46039f"
             ],
             [
              0.2222222222222222,
              "#7201a8"
             ],
             [
              0.3333333333333333,
              "#9c179e"
             ],
             [
              0.4444444444444444,
              "#bd3786"
             ],
             [
              0.5555555555555556,
              "#d8576b"
             ],
             [
              0.6666666666666666,
              "#ed7953"
             ],
             [
              0.7777777777777778,
              "#fb9f3a"
             ],
             [
              0.8888888888888888,
              "#fdca26"
             ],
             [
              1,
              "#f0f921"
             ]
            ],
            "type": "heatmap"
           }
          ],
          "heatmapgl": [
           {
            "colorbar": {
             "outlinewidth": 0,
             "ticks": ""
            },
            "colorscale": [
             [
              0,
              "#0d0887"
             ],
             [
              0.1111111111111111,
              "#46039f"
             ],
             [
              0.2222222222222222,
              "#7201a8"
             ],
             [
              0.3333333333333333,
              "#9c179e"
             ],
             [
              0.4444444444444444,
              "#bd3786"
             ],
             [
              0.5555555555555556,
              "#d8576b"
             ],
             [
              0.6666666666666666,
              "#ed7953"
             ],
             [
              0.7777777777777778,
              "#fb9f3a"
             ],
             [
              0.8888888888888888,
              "#fdca26"
             ],
             [
              1,
              "#f0f921"
             ]
            ],
            "type": "heatmapgl"
           }
          ],
          "histogram": [
           {
            "marker": {
             "pattern": {
              "fillmode": "overlay",
              "size": 10,
              "solidity": 0.2
             }
            },
            "type": "histogram"
           }
          ],
          "histogram2d": [
           {
            "colorbar": {
             "outlinewidth": 0,
             "ticks": ""
            },
            "colorscale": [
             [
              0,
              "#0d0887"
             ],
             [
              0.1111111111111111,
              "#46039f"
             ],
             [
              0.2222222222222222,
              "#7201a8"
             ],
             [
              0.3333333333333333,
              "#9c179e"
             ],
             [
              0.4444444444444444,
              "#bd3786"
             ],
             [
              0.5555555555555556,
              "#d8576b"
             ],
             [
              0.6666666666666666,
              "#ed7953"
             ],
             [
              0.7777777777777778,
              "#fb9f3a"
             ],
             [
              0.8888888888888888,
              "#fdca26"
             ],
             [
              1,
              "#f0f921"
             ]
            ],
            "type": "histogram2d"
           }
          ],
          "histogram2dcontour": [
           {
            "colorbar": {
             "outlinewidth": 0,
             "ticks": ""
            },
            "colorscale": [
             [
              0,
              "#0d0887"
             ],
             [
              0.1111111111111111,
              "#46039f"
             ],
             [
              0.2222222222222222,
              "#7201a8"
             ],
             [
              0.3333333333333333,
              "#9c179e"
             ],
             [
              0.4444444444444444,
              "#bd3786"
             ],
             [
              0.5555555555555556,
              "#d8576b"
             ],
             [
              0.6666666666666666,
              "#ed7953"
             ],
             [
              0.7777777777777778,
              "#fb9f3a"
             ],
             [
              0.8888888888888888,
              "#fdca26"
             ],
             [
              1,
              "#f0f921"
             ]
            ],
            "type": "histogram2dcontour"
           }
          ],
          "mesh3d": [
           {
            "colorbar": {
             "outlinewidth": 0,
             "ticks": ""
            },
            "type": "mesh3d"
           }
          ],
          "parcoords": [
           {
            "line": {
             "colorbar": {
              "outlinewidth": 0,
              "ticks": ""
             }
            },
            "type": "parcoords"
           }
          ],
          "pie": [
           {
            "automargin": true,
            "type": "pie"
           }
          ],
          "scatter": [
           {
            "fillpattern": {
             "fillmode": "overlay",
             "size": 10,
             "solidity": 0.2
            },
            "type": "scatter"
           }
          ],
          "scatter3d": [
           {
            "line": {
             "colorbar": {
              "outlinewidth": 0,
              "ticks": ""
             }
            },
            "marker": {
             "colorbar": {
              "outlinewidth": 0,
              "ticks": ""
             }
            },
            "type": "scatter3d"
           }
          ],
          "scattercarpet": [
           {
            "marker": {
             "colorbar": {
              "outlinewidth": 0,
              "ticks": ""
             }
            },
            "type": "scattercarpet"
           }
          ],
          "scattergeo": [
           {
            "marker": {
             "colorbar": {
              "outlinewidth": 0,
              "ticks": ""
             }
            },
            "type": "scattergeo"
           }
          ],
          "scattergl": [
           {
            "marker": {
             "colorbar": {
              "outlinewidth": 0,
              "ticks": ""
             }
            },
            "type": "scattergl"
           }
          ],
          "scattermapbox": [
           {
            "marker": {
             "colorbar": {
              "outlinewidth": 0,
              "ticks": ""
             }
            },
            "type": "scattermapbox"
           }
          ],
          "scatterpolar": [
           {
            "marker": {
             "colorbar": {
              "outlinewidth": 0,
              "ticks": ""
             }
            },
            "type": "scatterpolar"
           }
          ],
          "scatterpolargl": [
           {
            "marker": {
             "colorbar": {
              "outlinewidth": 0,
              "ticks": ""
             }
            },
            "type": "scatterpolargl"
           }
          ],
          "scatterternary": [
           {
            "marker": {
             "colorbar": {
              "outlinewidth": 0,
              "ticks": ""
             }
            },
            "type": "scatterternary"
           }
          ],
          "surface": [
           {
            "colorbar": {
             "outlinewidth": 0,
             "ticks": ""
            },
            "colorscale": [
             [
              0,
              "#0d0887"
             ],
             [
              0.1111111111111111,
              "#46039f"
             ],
             [
              0.2222222222222222,
              "#7201a8"
             ],
             [
              0.3333333333333333,
              "#9c179e"
             ],
             [
              0.4444444444444444,
              "#bd3786"
             ],
             [
              0.5555555555555556,
              "#d8576b"
             ],
             [
              0.6666666666666666,
              "#ed7953"
             ],
             [
              0.7777777777777778,
              "#fb9f3a"
             ],
             [
              0.8888888888888888,
              "#fdca26"
             ],
             [
              1,
              "#f0f921"
             ]
            ],
            "type": "surface"
           }
          ],
          "table": [
           {
            "cells": {
             "fill": {
              "color": "#EBF0F8"
             },
             "line": {
              "color": "white"
             }
            },
            "header": {
             "fill": {
              "color": "#C8D4E3"
             },
             "line": {
              "color": "white"
             }
            },
            "type": "table"
           }
          ]
         },
         "layout": {
          "annotationdefaults": {
           "arrowcolor": "#2a3f5f",
           "arrowhead": 0,
           "arrowwidth": 1
          },
          "autotypenumbers": "strict",
          "coloraxis": {
           "colorbar": {
            "outlinewidth": 0,
            "ticks": ""
           }
          },
          "colorscale": {
           "diverging": [
            [
             0,
             "#8e0152"
            ],
            [
             0.1,
             "#c51b7d"
            ],
            [
             0.2,
             "#de77ae"
            ],
            [
             0.3,
             "#f1b6da"
            ],
            [
             0.4,
             "#fde0ef"
            ],
            [
             0.5,
             "#f7f7f7"
            ],
            [
             0.6,
             "#e6f5d0"
            ],
            [
             0.7,
             "#b8e186"
            ],
            [
             0.8,
             "#7fbc41"
            ],
            [
             0.9,
             "#4d9221"
            ],
            [
             1,
             "#276419"
            ]
           ],
           "sequential": [
            [
             0,
             "#0d0887"
            ],
            [
             0.1111111111111111,
             "#46039f"
            ],
            [
             0.2222222222222222,
             "#7201a8"
            ],
            [
             0.3333333333333333,
             "#9c179e"
            ],
            [
             0.4444444444444444,
             "#bd3786"
            ],
            [
             0.5555555555555556,
             "#d8576b"
            ],
            [
             0.6666666666666666,
             "#ed7953"
            ],
            [
             0.7777777777777778,
             "#fb9f3a"
            ],
            [
             0.8888888888888888,
             "#fdca26"
            ],
            [
             1,
             "#f0f921"
            ]
           ],
           "sequentialminus": [
            [
             0,
             "#0d0887"
            ],
            [
             0.1111111111111111,
             "#46039f"
            ],
            [
             0.2222222222222222,
             "#7201a8"
            ],
            [
             0.3333333333333333,
             "#9c179e"
            ],
            [
             0.4444444444444444,
             "#bd3786"
            ],
            [
             0.5555555555555556,
             "#d8576b"
            ],
            [
             0.6666666666666666,
             "#ed7953"
            ],
            [
             0.7777777777777778,
             "#fb9f3a"
            ],
            [
             0.8888888888888888,
             "#fdca26"
            ],
            [
             1,
             "#f0f921"
            ]
           ]
          },
          "colorway": [
           "#636efa",
           "#EF553B",
           "#00cc96",
           "#ab63fa",
           "#FFA15A",
           "#19d3f3",
           "#FF6692",
           "#B6E880",
           "#FF97FF",
           "#FECB52"
          ],
          "font": {
           "color": "#2a3f5f"
          },
          "geo": {
           "bgcolor": "white",
           "lakecolor": "white",
           "landcolor": "#E5ECF6",
           "showlakes": true,
           "showland": true,
           "subunitcolor": "white"
          },
          "hoverlabel": {
           "align": "left"
          },
          "hovermode": "closest",
          "mapbox": {
           "style": "light"
          },
          "paper_bgcolor": "white",
          "plot_bgcolor": "#E5ECF6",
          "polar": {
           "angularaxis": {
            "gridcolor": "white",
            "linecolor": "white",
            "ticks": ""
           },
           "bgcolor": "#E5ECF6",
           "radialaxis": {
            "gridcolor": "white",
            "linecolor": "white",
            "ticks": ""
           }
          },
          "scene": {
           "xaxis": {
            "backgroundcolor": "#E5ECF6",
            "gridcolor": "white",
            "gridwidth": 2,
            "linecolor": "white",
            "showbackground": true,
            "ticks": "",
            "zerolinecolor": "white"
           },
           "yaxis": {
            "backgroundcolor": "#E5ECF6",
            "gridcolor": "white",
            "gridwidth": 2,
            "linecolor": "white",
            "showbackground": true,
            "ticks": "",
            "zerolinecolor": "white"
           },
           "zaxis": {
            "backgroundcolor": "#E5ECF6",
            "gridcolor": "white",
            "gridwidth": 2,
            "linecolor": "white",
            "showbackground": true,
            "ticks": "",
            "zerolinecolor": "white"
           }
          },
          "shapedefaults": {
           "line": {
            "color": "#2a3f5f"
           }
          },
          "ternary": {
           "aaxis": {
            "gridcolor": "white",
            "linecolor": "white",
            "ticks": ""
           },
           "baxis": {
            "gridcolor": "white",
            "linecolor": "white",
            "ticks": ""
           },
           "bgcolor": "#E5ECF6",
           "caxis": {
            "gridcolor": "white",
            "linecolor": "white",
            "ticks": ""
           }
          },
          "title": {
           "x": 0.05
          },
          "xaxis": {
           "automargin": true,
           "gridcolor": "white",
           "linecolor": "white",
           "ticks": "",
           "title": {
            "standoff": 15
           },
           "zerolinecolor": "white",
           "zerolinewidth": 2
          },
          "yaxis": {
           "automargin": true,
           "gridcolor": "white",
           "linecolor": "white",
           "ticks": "",
           "title": {
            "standoff": 15
           },
           "zerolinecolor": "white",
           "zerolinewidth": 2
          }
         }
        },
        "title": {
         "font": {
          "size": 28
         },
         "text": "Plots of correlations features lagged against the target",
         "x": 0.5
        },
        "width": 1700,
        "xaxis": {
         "anchor": "y",
         "autorange": true,
         "domain": [
          0,
          0.45
         ],
         "range": [
          0,
          40
         ],
         "title": {
          "text": "Lag"
         },
         "type": "linear"
        },
        "xaxis10": {
         "anchor": "y10",
         "autorange": true,
         "domain": [
          0.55,
          1
         ],
         "range": [
          0,
          40
         ],
         "title": {
          "text": "Lag"
         },
         "type": "linear"
        },
        "xaxis11": {
         "anchor": "y11",
         "autorange": true,
         "domain": [
          0,
          0.45
         ],
         "range": [
          0,
          40
         ],
         "title": {
          "text": "Lag"
         },
         "type": "linear"
        },
        "xaxis12": {
         "anchor": "y12",
         "autorange": true,
         "domain": [
          0.55,
          1
         ],
         "range": [
          0,
          40
         ],
         "title": {
          "text": "Lag"
         },
         "type": "linear"
        },
        "xaxis13": {
         "anchor": "y13",
         "autorange": true,
         "domain": [
          0,
          0.45
         ],
         "range": [
          0,
          40
         ],
         "title": {
          "text": "Lag"
         },
         "type": "linear"
        },
        "xaxis14": {
         "anchor": "y14",
         "autorange": true,
         "domain": [
          0.55,
          1
         ],
         "range": [
          0,
          40
         ],
         "title": {
          "text": "Lag"
         },
         "type": "linear"
        },
        "xaxis15": {
         "anchor": "y15",
         "autorange": true,
         "domain": [
          0,
          0.45
         ],
         "range": [
          0,
          40
         ],
         "title": {
          "text": "Lag"
         },
         "type": "linear"
        },
        "xaxis16": {
         "anchor": "y16",
         "domain": [
          0.55,
          1
         ]
        },
        "xaxis2": {
         "anchor": "y2",
         "autorange": true,
         "domain": [
          0.55,
          1
         ],
         "range": [
          0,
          40
         ],
         "title": {
          "text": "Lag"
         },
         "type": "linear"
        },
        "xaxis3": {
         "anchor": "y3",
         "autorange": true,
         "domain": [
          0,
          0.45
         ],
         "range": [
          0,
          40
         ],
         "title": {
          "text": "Lag"
         },
         "type": "linear"
        },
        "xaxis4": {
         "anchor": "y4",
         "autorange": true,
         "domain": [
          0.55,
          1
         ],
         "range": [
          0,
          40
         ],
         "title": {
          "text": "Lag"
         },
         "type": "linear"
        },
        "xaxis5": {
         "anchor": "y5",
         "autorange": true,
         "domain": [
          0,
          0.45
         ],
         "range": [
          0,
          40
         ],
         "title": {
          "text": "Lag"
         },
         "type": "linear"
        },
        "xaxis6": {
         "anchor": "y6",
         "autorange": true,
         "domain": [
          0.55,
          1
         ],
         "range": [
          0,
          40
         ],
         "title": {
          "text": "Lag"
         },
         "type": "linear"
        },
        "xaxis7": {
         "anchor": "y7",
         "autorange": true,
         "domain": [
          0,
          0.45
         ],
         "range": [
          0,
          40
         ],
         "title": {
          "text": "Lag"
         },
         "type": "linear"
        },
        "xaxis8": {
         "anchor": "y8",
         "autorange": true,
         "domain": [
          0.55,
          1
         ],
         "range": [
          0,
          40
         ],
         "title": {
          "text": "Lag"
         },
         "type": "linear"
        },
        "xaxis9": {
         "anchor": "y9",
         "autorange": true,
         "domain": [
          0,
          0.45
         ],
         "range": [
          0,
          40
         ],
         "title": {
          "text": "Lag"
         },
         "type": "linear"
        },
        "yaxis": {
         "anchor": "x",
         "autorange": true,
         "domain": [
          0.9296875,
          1
         ],
         "range": [
          -0.04672222222222222,
          -0.012277777777777778
         ],
         "title": {
          "text": "Correlation"
         },
         "type": "linear"
        },
        "yaxis10": {
         "anchor": "x10",
         "autorange": true,
         "domain": [
          0.3984375,
          0.46875
         ],
         "range": [
          0.8300555555555555,
          0.8689444444444444
         ],
         "title": {
          "text": "Correlation"
         },
         "type": "linear"
        },
        "yaxis11": {
         "anchor": "x11",
         "autorange": true,
         "domain": [
          0.265625,
          0.3359375
         ],
         "range": [
          -0.9707222222222222,
          -0.8162777777777778
         ],
         "title": {
          "text": "Correlation"
         },
         "type": "linear"
        },
        "yaxis12": {
         "anchor": "x12",
         "autorange": true,
         "domain": [
          0.265625,
          0.3359375
         ],
         "range": [
          -0.006055555555555555,
          -0.004944444444444445
         ],
         "title": {
          "text": "Correlation"
         },
         "type": "linear"
        },
        "yaxis13": {
         "anchor": "x13",
         "autorange": true,
         "domain": [
          0.1328125,
          0.203125
         ],
         "range": [
          -0.006166666666666667,
          -0.0028333333333333335
         ],
         "title": {
          "text": "Correlation"
         },
         "type": "linear"
        },
        "yaxis14": {
         "anchor": "x14",
         "autorange": true,
         "domain": [
          0.1328125,
          0.203125
         ],
         "range": [
          0.02316666666666667,
          0.03983333333333333
         ],
         "title": {
          "text": "Correlation"
         },
         "type": "linear"
        },
        "yaxis15": {
         "anchor": "x15",
         "autorange": true,
         "domain": [
          0,
          0.0703125
         ],
         "range": [
          0.8458888888888889,
          1.0081111111111112
         ],
         "title": {
          "text": "Correlation"
         },
         "type": "linear"
        },
        "yaxis16": {
         "anchor": "x16",
         "domain": [
          0,
          0.0703125
         ]
        },
        "yaxis2": {
         "anchor": "x2",
         "autorange": true,
         "domain": [
          0.9296875,
          1
         ],
         "range": [
          0,
          2
         ],
         "title": {
          "text": "Correlation"
         },
         "type": "linear"
        },
        "yaxis3": {
         "anchor": "x3",
         "autorange": true,
         "domain": [
          0.796875,
          0.8671875
         ],
         "range": [
          0.8407777777777777,
          1.0052222222222222
         ],
         "title": {
          "text": "Correlation"
         },
         "type": "linear"
        },
        "yaxis4": {
         "anchor": "x4",
         "autorange": true,
         "domain": [
          0.796875,
          0.8671875
         ],
         "range": [
          0.8590555555555556,
          0.8979444444444444
         ],
         "title": {
          "text": "Correlation"
         },
         "type": "linear"
        },
        "yaxis5": {
         "anchor": "x5",
         "autorange": true,
         "domain": [
          0.6640625,
          0.734375
         ],
         "range": [
          -0.5863888888888888,
          -0.2986111111111111
         ],
         "title": {
          "text": "Correlation"
         },
         "type": "linear"
        },
        "yaxis6": {
         "anchor": "x6",
         "autorange": true,
         "domain": [
          0.6640625,
          0.734375
         ],
         "range": [
          0.7736666666666667,
          0.9603333333333333
         ],
         "title": {
          "text": "Correlation"
         },
         "type": "linear"
        },
        "yaxis7": {
         "anchor": "x7",
         "autorange": true,
         "domain": [
          0.53125,
          0.6015625
         ],
         "range": [
          0.8310555555555555,
          0.8699444444444444
         ],
         "title": {
          "text": "Correlation"
         },
         "type": "linear"
        },
        "yaxis8": {
         "anchor": "x8",
         "autorange": true,
         "domain": [
          0.53125,
          0.6015625
         ],
         "range": [
          0.5118333333333334,
          0.7751666666666667
         ],
         "title": {
          "text": "Correlation"
         },
         "type": "linear"
        },
        "yaxis9": {
         "anchor": "x9",
         "autorange": true,
         "domain": [
          0.3984375,
          0.46875
         ],
         "range": [
          0.8300555555555555,
          0.8689444444444444
         ],
         "title": {
          "text": "Correlation"
         },
         "type": "linear"
        }
       }
      },
      "image/png": "[encoded data removed]",
      "text/html": [
       "<div>                            <div id=\"26a7e68d-fe9f-45a2-810b-1728d98cffa1\" class=\"plotly-graph-div\" style=\"height:2800px; width:1700px;\"></div>            <script type=\"text/javascript\">                require([\"plotly\"], function(Plotly) {                    window.PLOTLYENV=window.PLOTLYENV || {};                                    if (document.getElementById(\"26a7e68d-fe9f-45a2-810b-1728d98cffa1\")) {                    Plotly.newPlot(                        \"26a7e68d-fe9f-45a2-810b-1728d98cffa1\",                        [{\"name\":\"p (mbar)\",\"x\":[0,1,2,3,4,5,6,7,8,9,10,11,12,13,14,15,16,17,18,19,20,21,22,23,24,25,26,27,28,29,30,31,32,33,34,35,36,37,38,39,40],\"y\":[-0.045,-0.045,-0.044,-0.043,-0.043,-0.042,-0.041,-0.04,-0.04,-0.039,-0.038,-0.037,-0.036,-0.035,-0.035,-0.034,-0.033,-0.032,-0.031,-0.03,-0.029,-0.029,-0.028,-0.027,-0.026,-0.025,-0.024,-0.024,-0.023,-0.022,-0.021,-0.02,-0.02,-0.019,-0.018,-0.017,-0.017,-0.016,-0.015,-0.014,-0.014],\"type\":\"scatter\",\"xaxis\":\"x\",\"yaxis\":\"y\"},{\"name\":\"T (degC)\",\"x\":[0,1,2,3,4,5,6,7,8,9,10,11,12,13,14,15,16,17,18,19,20,21,22,23,24,25,26,27,28,29,30,31,32,33,34,35,36,37,38,39,40],\"y\":[1.0,1.0,1.0,1.0,1.0,1.0,1.0,1.0,1.0,1.0,1.0,1.0,1.0,1.0,1.0,1.0,1.0,1.0,1.0,1.0,1.0,1.0,1.0,1.0,1.0,1.0,1.0,1.0,1.0,1.0,1.0,1.0,1.0,1.0,1.0,1.0,1.0,1.0,1.0,1.0,1.0],\"type\":\"scatter\",\"xaxis\":\"x2\",\"yaxis\":\"y2\"},{\"name\":\"Tpot (K)\",\"x\":[0,1,2,3,4,5,6,7,8,9,10,11,12,13,14,15,16,17,18,19,20,21,22,23,24,25,26,27,28,29,30,31,32,33,34,35,36,37,38,39,40],\"y\":[0.997,0.996,0.995,0.994,0.993,0.991,0.989,0.987,0.985,0.982,0.979,0.976,0.973,0.97,0.967,0.963,0.959,0.955,0.951,0.947,0.943,0.938,0.934,0.929,0.925,0.92,0.915,0.911,0.906,0.901,0.896,0.891,0.887,0.882,0.877,0.872,0.867,0.863,0.858,0.853,0.849],\"type\":\"scatter\",\"xaxis\":\"x3\",\"yaxis\":\"y3\"},{\"name\":\"Tdew (degC)\",\"x\":[0,1,2,3,4,5,6,7,8,9,10,11,12,13,14,15,16,17,18,19,20,21,22,23,24,25,26,27,28,29,30,31,32,33,34,35,36,37,38,39,40],\"y\":[0.896,0.896,0.896,0.896,0.895,0.895,0.895,0.894,0.894,0.893,0.893,0.892,0.891,0.891,0.89,0.889,0.888,0.887,0.886,0.885,0.884,0.883,0.882,0.881,0.879,0.878,0.877,0.876,0.875,0.874,0.872,0.871,0.87,0.869,0.868,0.867,0.865,0.864,0.863,0.862,0.861],\"type\":\"scatter\",\"xaxis\":\"x4\",\"yaxis\":\"y4\"},{\"name\":\"rh (%)\",\"x\":[0,1,2,3,4,5,6,7,8,9,10,11,12,13,14,15,16,17,18,19,20,21,22,23,24,25,26,27,28,29,30,31,32,33,34,35,36,37,38,39,40],\"y\":[-0.572,-0.571,-0.569,-0.567,-0.564,-0.561,-0.558,-0.554,-0.55,-0.545,-0.54,-0.535,-0.529,-0.524,-0.517,-0.511,-0.505,-0.498,-0.491,-0.483,-0.476,-0.468,-0.461,-0.453,-0.445,-0.437,-0.429,-0.421,-0.412,-0.404,-0.396,-0.387,-0.379,-0.37,-0.362,-0.354,-0.346,-0.337,-0.329,-0.321,-0.313],\"type\":\"scatter\",\"xaxis\":\"x5\",\"yaxis\":\"y5\"},{\"name\":\"VPmax (mbar)\",\"x\":[0,1,2,3,4,5,6,7,8,9,10,11,12,13,14,15,16,17,18,19,20,21,22,23,24,25,26,27,28,29,30,31,32,33,34,35,36,37,38,39,40],\"y\":[0.951,0.951,0.95,0.948,0.947,0.945,0.943,0.94,0.938,0.935,0.932,0.928,0.925,0.921,0.917,0.913,0.909,0.905,0.9,0.895,0.891,0.886,0.881,0.875,0.87,0.865,0.86,0.854,0.849,0.843,0.838,0.832,0.827,0.821,0.815,0.81,0.804,0.799,0.793,0.788,0.783],\"type\":\"scatter\",\"xaxis\":\"x6\",\"yaxis\":\"y6\"},{\"name\":\"VPact (mbar)\",\"x\":[0,1,2,3,4,5,6,7,8,9,10,11,12,13,14,15,16,17,18,19,20,21,22,23,24,25,26,27,28,29,30,31,32,33,34,35,36,37,38,39,40],\"y\":[0.868,0.868,0.868,0.868,0.868,0.867,0.867,0.867,0.866,0.866,0.865,0.864,0.864,0.863,0.862,0.861,0.86,0.859,0.858,0.857,0.856,0.855,0.854,0.853,0.852,0.851,0.849,0.848,0.847,0.846,0.845,0.844,0.842,0.841,0.84,0.839,0.838,0.837,0.835,0.834,0.833],\"type\":\"scatter\",\"xaxis\":\"x7\",\"yaxis\":\"y7\"},{\"name\":\"VPdef (mbar)\",\"x\":[0,1,2,3,4,5,6,7,8,9,10,11,12,13,14,15,16,17,18,19,20,21,22,23,24,25,26,27,28,29,30,31,32,33,34,35,36,37,38,39,40],\"y\":[0.762,0.761,0.759,0.757,0.755,0.752,0.749,0.746,0.742,0.738,0.733,0.729,0.724,0.719,0.713,0.707,0.702,0.695,0.689,0.682,0.676,0.669,0.662,0.655,0.648,0.64,0.633,0.625,0.618,0.61,0.602,0.594,0.587,0.579,0.571,0.563,0.555,0.548,0.54,0.532,0.525],\"type\":\"scatter\",\"xaxis\":\"x8\",\"yaxis\":\"y8\"},{\"name\":\"sh (g\\u002fkg)\",\"x\":[0,1,2,3,4,5,6,7,8,9,10,11,12,13,14,15,16,17,18,19,20,21,22,23,24,25,26,27,28,29,30,31,32,33,34,35,36,37,38,39,40],\"y\":[0.867,0.867,0.867,0.867,0.867,0.866,0.866,0.866,0.865,0.865,0.864,0.863,0.863,0.862,0.861,0.86,0.859,0.858,0.857,0.856,0.855,0.854,0.853,0.852,0.85,0.849,0.848,0.847,0.846,0.845,0.843,0.842,0.841,0.84,0.839,0.837,0.836,0.835,0.834,0.833,0.832],\"type\":\"scatter\",\"xaxis\":\"x9\",\"yaxis\":\"y9\"},{\"name\":\"H2OC (mmol\\u002fmol)\",\"x\":[0,1,2,3,4,5,6,7,8,9,10,11,12,13,14,15,16,17,18,19,20,21,22,23,24,25,26,27,28,29,30,31,32,33,34,35,36,37,38,39,40],\"y\":[0.867,0.867,0.867,0.867,0.867,0.867,0.866,0.866,0.866,0.865,0.864,0.864,0.863,0.862,0.861,0.86,0.859,0.858,0.857,0.856,0.855,0.854,0.853,0.852,0.851,0.85,0.848,0.847,0.846,0.845,0.844,0.843,0.841,0.84,0.839,0.838,0.837,0.836,0.834,0.833,0.832],\"type\":\"scatter\",\"xaxis\":\"x10\",\"yaxis\":\"y10\"},{\"name\":\"rho (g\\u002fm**3)\",\"x\":[0,1,2,3,4,5,6,7,8,9,10,11,12,13,14,15,16,17,18,19,20,21,22,23,24,25,26,27,28,29,30,31,32,33,34,35,36,37,38,39,40],\"y\":[-0.963,-0.963,-0.962,-0.961,-0.959,-0.958,-0.956,-0.954,-0.952,-0.949,-0.946,-0.944,-0.941,-0.937,-0.934,-0.931,-0.927,-0.923,-0.92,-0.916,-0.912,-0.907,-0.903,-0.899,-0.895,-0.89,-0.886,-0.881,-0.877,-0.873,-0.868,-0.864,-0.859,-0.854,-0.85,-0.846,-0.841,-0.837,-0.832,-0.828,-0.824],\"type\":\"scatter\",\"xaxis\":\"x11\",\"yaxis\":\"y11\"},{\"name\":\"wv (m\\u002fs)\",\"x\":[0,1,2,3,4,5,6,7,8,9,10,11,12,13,14,15,16,17,18,19,20,21,22,23,24,25,26,27,28,29,30,31,32,33,34,35,36,37,38,39,40],\"y\":[-0.005,-0.005,-0.005,-0.005,-0.005,-0.005,-0.005,-0.005,-0.005,-0.005,-0.005,-0.005,-0.006,-0.006,-0.006,-0.006,-0.006,-0.006,-0.006,-0.006,-0.006,-0.006,-0.006,-0.006,-0.006,-0.006,-0.006,-0.006,-0.006,-0.006,-0.006,-0.006,-0.006,-0.006,-0.006,-0.006,-0.006,-0.006,-0.006,-0.006,-0.006],\"type\":\"scatter\",\"xaxis\":\"x12\",\"yaxis\":\"y12\"},{\"name\":\"max. wv (m\\u002fs)\",\"x\":[0,1,2,3,4,5,6,7,8,9,10,11,12,13,14,15,16,17,18,19,20,21,22,23,24,25,26,27,28,29,30,31,32,33,34,35,36,37,38,39,40],\"y\":[-0.003,-0.003,-0.003,-0.003,-0.003,-0.003,-0.003,-0.003,-0.003,-0.003,-0.004,-0.004,-0.004,-0.004,-0.004,-0.004,-0.004,-0.004,-0.005,-0.005,-0.005,-0.005,-0.005,-0.005,-0.005,-0.005,-0.005,-0.005,-0.005,-0.005,-0.005,-0.005,-0.005,-0.005,-0.005,-0.005,-0.005,-0.005,-0.005,-0.006,-0.006],\"type\":\"scatter\",\"xaxis\":\"x13\",\"yaxis\":\"y13\"},{\"name\":\"wd (deg)\",\"x\":[0,1,2,3,4,5,6,7,8,9,10,11,12,13,14,15,16,17,18,19,20,21,22,23,24,25,26,27,28,29,30,31,32,33,34,35,36,37,38,39,40],\"y\":[0.039,0.038,0.036,0.035,0.033,0.032,0.031,0.03,0.029,0.028,0.027,0.026,0.026,0.025,0.025,0.025,0.024,0.024,0.024,0.024,0.024,0.024,0.024,0.025,0.025,0.025,0.025,0.026,0.026,0.027,0.027,0.028,0.028,0.029,0.03,0.03,0.031,0.032,0.033,0.034,0.035],\"type\":\"scatter\",\"xaxis\":\"x14\",\"yaxis\":\"y14\"},{\"name\":\"T (degC)_shift\",\"x\":[0,1,2,3,4,5,6,7,8,9,10,11,12,13,14,15,16,17,18,19,20,21,22,23,24,25,26,27,28,29,30,31,32,33,34,35,36,37,38,39,40],\"y\":[1.0,1.0,0.999,0.998,0.996,0.995,0.993,0.991,0.988,0.986,0.983,0.98,0.977,0.974,0.97,0.967,0.963,0.959,0.955,0.951,0.947,0.942,0.938,0.934,0.929,0.924,0.92,0.915,0.91,0.906,0.901,0.896,0.891,0.886,0.882,0.877,0.872,0.867,0.863,0.858,0.854],\"type\":\"scatter\",\"xaxis\":\"x15\",\"yaxis\":\"y15\"}],                        {\"template\":{\"data\":{\"histogram2dcontour\":[{\"type\":\"histogram2dcontour\",\"colorbar\":{\"outlinewidth\":0,\"ticks\":\"\"},\"colorscale\":[[0.0,\"#0d0887\"],[0.1111111111111111,\"#46039f\"],[0.2222222222222222,\"#7201a8\"],[0.3333333333333333,\"#9c179e\"],[0.4444444444444444,\"#bd3786\"],[0.5555555555555556,\"#d8576b\"],[0.6666666666666666,\"#ed7953\"],[0.7777777777777778,\"#fb9f3a\"],[0.8888888888888888,\"#fdca26\"],[1.0,\"#f0f921\"]]}],\"choropleth\":[{\"type\":\"choropleth\",\"colorbar\":{\"outlinewidth\":0,\"ticks\":\"\"}}],\"histogram2d\":[{\"type\":\"histogram2d\",\"colorbar\":{\"outlinewidth\":0,\"ticks\":\"\"},\"colorscale\":[[0.0,\"#0d0887\"],[0.1111111111111111,\"#46039f\"],[0.2222222222222222,\"#7201a8\"],[0.3333333333333333,\"#9c179e\"],[0.4444444444444444,\"#bd3786\"],[0.5555555555555556,\"#d8576b\"],[0.6666666666666666,\"#ed7953\"],[0.7777777777777778,\"#fb9f3a\"],[0.8888888888888888,\"#fdca26\"],[1.0,\"#f0f921\"]]}],\"heatmap\":[{\"type\":\"heatmap\",\"colorbar\":{\"outlinewidth\":0,\"ticks\":\"\"},\"colorscale\":[[0.0,\"#0d0887\"],[0.1111111111111111,\"#46039f\"],[0.2222222222222222,\"#7201a8\"],[0.3333333333333333,\"#9c179e\"],[0.4444444444444444,\"#bd3786\"],[0.5555555555555556,\"#d8576b\"],[0.6666666666666666,\"#ed7953\"],[0.7777777777777778,\"#fb9f3a\"],[0.8888888888888888,\"#fdca26\"],[1.0,\"#f0f921\"]]}],\"heatmapgl\":[{\"type\":\"heatmapgl\",\"colorbar\":{\"outlinewidth\":0,\"ticks\":\"\"},\"colorscale\":[[0.0,\"#0d0887\"],[0.1111111111111111,\"#46039f\"],[0.2222222222222222,\"#7201a8\"],[0.3333333333333333,\"#9c179e\"],[0.4444444444444444,\"#bd3786\"],[0.5555555555555556,\"#d8576b\"],[0.6666666666666666,\"#ed7953\"],[0.7777777777777778,\"#fb9f3a\"],[0.8888888888888888,\"#fdca26\"],[1.0,\"#f0f921\"]]}],\"contourcarpet\":[{\"type\":\"contourcarpet\",\"colorbar\":{\"outlinewidth\":0,\"ticks\":\"\"}}],\"contour\":[{\"type\":\"contour\",\"colorbar\":{\"outlinewidth\":0,\"ticks\":\"\"},\"colorscale\":[[0.0,\"#0d0887\"],[0.1111111111111111,\"#46039f\"],[0.2222222222222222,\"#7201a8\"],[0.3333333333333333,\"#9c179e\"],[0.4444444444444444,\"#bd3786\"],[0.5555555555555556,\"#d8576b\"],[0.6666666666666666,\"#ed7953\"],[0.7777777777777778,\"#fb9f3a\"],[0.8888888888888888,\"#fdca26\"],[1.0,\"#f0f921\"]]}],\"surface\":[{\"type\":\"surface\",\"colorbar\":{\"outlinewidth\":0,\"ticks\":\"\"},\"colorscale\":[[0.0,\"#0d0887\"],[0.1111111111111111,\"#46039f\"],[0.2222222222222222,\"#7201a8\"],[0.3333333333333333,\"#9c179e\"],[0.4444444444444444,\"#bd3786\"],[0.5555555555555556,\"#d8576b\"],[0.6666666666666666,\"#ed7953\"],[0.7777777777777778,\"#fb9f3a\"],[0.8888888888888888,\"#fdca26\"],[1.0,\"#f0f921\"]]}],\"mesh3d\":[{\"type\":\"mesh3d\",\"colorbar\":{\"outlinewidth\":0,\"ticks\":\"\"}}],\"scatter\":[{\"fillpattern\":{\"fillmode\":\"overlay\",\"size\":10,\"solidity\":0.2},\"type\":\"scatter\"}],\"parcoords\":[{\"type\":\"parcoords\",\"line\":{\"colorbar\":{\"outlinewidth\":0,\"ticks\":\"\"}}}],\"scatterpolargl\":[{\"type\":\"scatterpolargl\",\"marker\":{\"colorbar\":{\"outlinewidth\":0,\"ticks\":\"\"}}}],\"bar\":[{\"error_x\":{\"color\":\"#2a3f5f\"},\"error_y\":{\"color\":\"#2a3f5f\"},\"marker\":{\"line\":{\"color\":\"#E5ECF6\",\"width\":0.5},\"pattern\":{\"fillmode\":\"overlay\",\"size\":10,\"solidity\":0.2}},\"type\":\"bar\"}],\"scattergeo\":[{\"type\":\"scattergeo\",\"marker\":{\"colorbar\":{\"outlinewidth\":0,\"ticks\":\"\"}}}],\"scatterpolar\":[{\"type\":\"scatterpolar\",\"marker\":{\"colorbar\":{\"outlinewidth\":0,\"ticks\":\"\"}}}],\"histogram\":[{\"marker\":{\"pattern\":{\"fillmode\":\"overlay\",\"size\":10,\"solidity\":0.2}},\"type\":\"histogram\"}],\"scattergl\":[{\"type\":\"scattergl\",\"marker\":{\"colorbar\":{\"outlinewidth\":0,\"ticks\":\"\"}}}],\"scatter3d\":[{\"type\":\"scatter3d\",\"line\":{\"colorbar\":{\"outlinewidth\":0,\"ticks\":\"\"}},\"marker\":{\"colorbar\":{\"outlinewidth\":0,\"ticks\":\"\"}}}],\"scattermapbox\":[{\"type\":\"scattermapbox\",\"marker\":{\"colorbar\":{\"outlinewidth\":0,\"ticks\":\"\"}}}],\"scatterternary\":[{\"type\":\"scatterternary\",\"marker\":{\"colorbar\":{\"outlinewidth\":0,\"ticks\":\"\"}}}],\"scattercarpet\":[{\"type\":\"scattercarpet\",\"marker\":{\"colorbar\":{\"outlinewidth\":0,\"ticks\":\"\"}}}],\"carpet\":[{\"aaxis\":{\"endlinecolor\":\"#2a3f5f\",\"gridcolor\":\"white\",\"linecolor\":\"white\",\"minorgridcolor\":\"white\",\"startlinecolor\":\"#2a3f5f\"},\"baxis\":{\"endlinecolor\":\"#2a3f5f\",\"gridcolor\":\"white\",\"linecolor\":\"white\",\"minorgridcolor\":\"white\",\"startlinecolor\":\"#2a3f5f\"},\"type\":\"carpet\"}],\"table\":[{\"cells\":{\"fill\":{\"color\":\"#EBF0F8\"},\"line\":{\"color\":\"white\"}},\"header\":{\"fill\":{\"color\":\"#C8D4E3\"},\"line\":{\"color\":\"white\"}},\"type\":\"table\"}],\"barpolar\":[{\"marker\":{\"line\":{\"color\":\"#E5ECF6\",\"width\":0.5},\"pattern\":{\"fillmode\":\"overlay\",\"size\":10,\"solidity\":0.2}},\"type\":\"barpolar\"}],\"pie\":[{\"automargin\":true,\"type\":\"pie\"}]},\"layout\":{\"autotypenumbers\":\"strict\",\"colorway\":[\"#636efa\",\"#EF553B\",\"#00cc96\",\"#ab63fa\",\"#FFA15A\",\"#19d3f3\",\"#FF6692\",\"#B6E880\",\"#FF97FF\",\"#FECB52\"],\"font\":{\"color\":\"#2a3f5f\"},\"hovermode\":\"closest\",\"hoverlabel\":{\"align\":\"left\"},\"paper_bgcolor\":\"white\",\"plot_bgcolor\":\"#E5ECF6\",\"polar\":{\"bgcolor\":\"#E5ECF6\",\"angularaxis\":{\"gridcolor\":\"white\",\"linecolor\":\"white\",\"ticks\":\"\"},\"radialaxis\":{\"gridcolor\":\"white\",\"linecolor\":\"white\",\"ticks\":\"\"}},\"ternary\":{\"bgcolor\":\"#E5ECF6\",\"aaxis\":{\"gridcolor\":\"white\",\"linecolor\":\"white\",\"ticks\":\"\"},\"baxis\":{\"gridcolor\":\"white\",\"linecolor\":\"white\",\"ticks\":\"\"},\"caxis\":{\"gridcolor\":\"white\",\"linecolor\":\"white\",\"ticks\":\"\"}},\"coloraxis\":{\"colorbar\":{\"outlinewidth\":0,\"ticks\":\"\"}},\"colorscale\":{\"sequential\":[[0.0,\"#0d0887\"],[0.1111111111111111,\"#46039f\"],[0.2222222222222222,\"#7201a8\"],[0.3333333333333333,\"#9c179e\"],[0.4444444444444444,\"#bd3786\"],[0.5555555555555556,\"#d8576b\"],[0.6666666666666666,\"#ed7953\"],[0.7777777777777778,\"#fb9f3a\"],[0.8888888888888888,\"#fdca26\"],[1.0,\"#f0f921\"]],\"sequentialminus\":[[0.0,\"#0d0887\"],[0.1111111111111111,\"#46039f\"],[0.2222222222222222,\"#7201a8\"],[0.3333333333333333,\"#9c179e\"],[0.4444444444444444,\"#bd3786\"],[0.5555555555555556,\"#d8576b\"],[0.6666666666666666,\"#ed7953\"],[0.7777777777777778,\"#fb9f3a\"],[0.8888888888888888,\"#fdca26\"],[1.0,\"#f0f921\"]],\"diverging\":[[0,\"#8e0152\"],[0.1,\"#c51b7d\"],[0.2,\"#de77ae\"],[0.3,\"#f1b6da\"],[0.4,\"#fde0ef\"],[0.5,\"#f7f7f7\"],[0.6,\"#e6f5d0\"],[0.7,\"#b8e186\"],[0.8,\"#7fbc41\"],[0.9,\"#4d9221\"],[1,\"#276419\"]]},\"xaxis\":{\"gridcolor\":\"white\",\"linecolor\":\"white\",\"ticks\":\"\",\"title\":{\"standoff\":15},\"zerolinecolor\":\"white\",\"automargin\":true,\"zerolinewidth\":2},\"yaxis\":{\"gridcolor\":\"white\",\"linecolor\":\"white\",\"ticks\":\"\",\"title\":{\"standoff\":15},\"zerolinecolor\":\"white\",\"automargin\":true,\"zerolinewidth\":2},\"scene\":{\"xaxis\":{\"backgroundcolor\":\"#E5ECF6\",\"gridcolor\":\"white\",\"linecolor\":\"white\",\"showbackground\":true,\"ticks\":\"\",\"zerolinecolor\":\"white\",\"gridwidth\":2},\"yaxis\":{\"backgroundcolor\":\"#E5ECF6\",\"gridcolor\":\"white\",\"linecolor\":\"white\",\"showbackground\":true,\"ticks\":\"\",\"zerolinecolor\":\"white\",\"gridwidth\":2},\"zaxis\":{\"backgroundcolor\":\"#E5ECF6\",\"gridcolor\":\"white\",\"linecolor\":\"white\",\"showbackground\":true,\"ticks\":\"\",\"zerolinecolor\":\"white\",\"gridwidth\":2}},\"shapedefaults\":{\"line\":{\"color\":\"#2a3f5f\"}},\"annotationdefaults\":{\"arrowcolor\":\"#2a3f5f\",\"arrowhead\":0,\"arrowwidth\":1},\"geo\":{\"bgcolor\":\"white\",\"landcolor\":\"#E5ECF6\",\"subunitcolor\":\"white\",\"showland\":true,\"showlakes\":true,\"lakecolor\":\"white\"},\"title\":{\"x\":0.05},\"mapbox\":{\"style\":\"light\"}}},\"xaxis\":{\"anchor\":\"y\",\"domain\":[0.0,0.45],\"title\":{\"text\":\"Lag\"}},\"yaxis\":{\"anchor\":\"x\",\"domain\":[0.9296875,1.0],\"title\":{\"text\":\"Correlation\"}},\"xaxis2\":{\"anchor\":\"y2\",\"domain\":[0.55,1.0],\"title\":{\"text\":\"Lag\"}},\"yaxis2\":{\"anchor\":\"x2\",\"domain\":[0.9296875,1.0],\"title\":{\"text\":\"Correlation\"}},\"xaxis3\":{\"anchor\":\"y3\",\"domain\":[0.0,0.45],\"title\":{\"text\":\"Lag\"}},\"yaxis3\":{\"anchor\":\"x3\",\"domain\":[0.796875,0.8671875],\"title\":{\"text\":\"Correlation\"}},\"xaxis4\":{\"anchor\":\"y4\",\"domain\":[0.55,1.0],\"title\":{\"text\":\"Lag\"}},\"yaxis4\":{\"anchor\":\"x4\",\"domain\":[0.796875,0.8671875],\"title\":{\"text\":\"Correlation\"}},\"xaxis5\":{\"anchor\":\"y5\",\"domain\":[0.0,0.45],\"title\":{\"text\":\"Lag\"}},\"yaxis5\":{\"anchor\":\"x5\",\"domain\":[0.6640625,0.734375],\"title\":{\"text\":\"Correlation\"}},\"xaxis6\":{\"anchor\":\"y6\",\"domain\":[0.55,1.0],\"title\":{\"text\":\"Lag\"}},\"yaxis6\":{\"anchor\":\"x6\",\"domain\":[0.6640625,0.734375],\"title\":{\"text\":\"Correlation\"}},\"xaxis7\":{\"anchor\":\"y7\",\"domain\":[0.0,0.45],\"title\":{\"text\":\"Lag\"}},\"yaxis7\":{\"anchor\":\"x7\",\"domain\":[0.53125,0.6015625],\"title\":{\"text\":\"Correlation\"}},\"xaxis8\":{\"anchor\":\"y8\",\"domain\":[0.55,1.0],\"title\":{\"text\":\"Lag\"}},\"yaxis8\":{\"anchor\":\"x8\",\"domain\":[0.53125,0.6015625],\"title\":{\"text\":\"Correlation\"}},\"xaxis9\":{\"anchor\":\"y9\",\"domain\":[0.0,0.45],\"title\":{\"text\":\"Lag\"}},\"yaxis9\":{\"anchor\":\"x9\",\"domain\":[0.3984375,0.46875],\"title\":{\"text\":\"Correlation\"}},\"xaxis10\":{\"anchor\":\"y10\",\"domain\":[0.55,1.0],\"title\":{\"text\":\"Lag\"}},\"yaxis10\":{\"anchor\":\"x10\",\"domain\":[0.3984375,0.46875],\"title\":{\"text\":\"Correlation\"}},\"xaxis11\":{\"anchor\":\"y11\",\"domain\":[0.0,0.45],\"title\":{\"text\":\"Lag\"}},\"yaxis11\":{\"anchor\":\"x11\",\"domain\":[0.265625,0.3359375],\"title\":{\"text\":\"Correlation\"}},\"xaxis12\":{\"anchor\":\"y12\",\"domain\":[0.55,1.0],\"title\":{\"text\":\"Lag\"}},\"yaxis12\":{\"anchor\":\"x12\",\"domain\":[0.265625,0.3359375],\"title\":{\"text\":\"Correlation\"}},\"xaxis13\":{\"anchor\":\"y13\",\"domain\":[0.0,0.45],\"title\":{\"text\":\"Lag\"}},\"yaxis13\":{\"anchor\":\"x13\",\"domain\":[0.1328125,0.203125],\"title\":{\"text\":\"Correlation\"}},\"xaxis14\":{\"anchor\":\"y14\",\"domain\":[0.55,1.0],\"title\":{\"text\":\"Lag\"}},\"yaxis14\":{\"anchor\":\"x14\",\"domain\":[0.1328125,0.203125],\"title\":{\"text\":\"Correlation\"}},\"xaxis15\":{\"anchor\":\"y15\",\"domain\":[0.0,0.45],\"title\":{\"text\":\"Lag\"}},\"yaxis15\":{\"anchor\":\"x15\",\"domain\":[0.0,0.0703125],\"title\":{\"text\":\"Correlation\"}},\"xaxis16\":{\"anchor\":\"y16\",\"domain\":[0.55,1.0]},\"yaxis16\":{\"anchor\":\"x16\",\"domain\":[0.0,0.0703125]},\"annotations\":[{\"font\":{\"size\":16},\"showarrow\":false,\"text\":\"p (mbar)\",\"x\":0.225,\"xanchor\":\"center\",\"xref\":\"paper\",\"y\":1.0,\"yanchor\":\"bottom\",\"yref\":\"paper\"},{\"font\":{\"size\":16},\"showarrow\":false,\"text\":\"T (degC)\",\"x\":0.775,\"xanchor\":\"center\",\"xref\":\"paper\",\"y\":1.0,\"yanchor\":\"bottom\",\"yref\":\"paper\"},{\"font\":{\"size\":16},\"showarrow\":false,\"text\":\"Tpot (K)\",\"x\":0.225,\"xanchor\":\"center\",\"xref\":\"paper\",\"y\":0.8671875,\"yanchor\":\"bottom\",\"yref\":\"paper\"},{\"font\":{\"size\":16},\"showarrow\":false,\"text\":\"Tdew (degC)\",\"x\":0.775,\"xanchor\":\"center\",\"xref\":\"paper\",\"y\":0.8671875,\"yanchor\":\"bottom\",\"yref\":\"paper\"},{\"font\":{\"size\":16},\"showarrow\":false,\"text\":\"rh (%)\",\"x\":0.225,\"xanchor\":\"center\",\"xref\":\"paper\",\"y\":0.734375,\"yanchor\":\"bottom\",\"yref\":\"paper\"},{\"font\":{\"size\":16},\"showarrow\":false,\"text\":\"VPmax (mbar)\",\"x\":0.775,\"xanchor\":\"center\",\"xref\":\"paper\",\"y\":0.734375,\"yanchor\":\"bottom\",\"yref\":\"paper\"},{\"font\":{\"size\":16},\"showarrow\":false,\"text\":\"VPact (mbar)\",\"x\":0.225,\"xanchor\":\"center\",\"xref\":\"paper\",\"y\":0.6015625,\"yanchor\":\"bottom\",\"yref\":\"paper\"},{\"font\":{\"size\":16},\"showarrow\":false,\"text\":\"VPdef (mbar)\",\"x\":0.775,\"xanchor\":\"center\",\"xref\":\"paper\",\"y\":0.6015625,\"yanchor\":\"bottom\",\"yref\":\"paper\"},{\"font\":{\"size\":16},\"showarrow\":false,\"text\":\"sh (g\\u002fkg)\",\"x\":0.225,\"xanchor\":\"center\",\"xref\":\"paper\",\"y\":0.46875,\"yanchor\":\"bottom\",\"yref\":\"paper\"},{\"font\":{\"size\":16},\"showarrow\":false,\"text\":\"H2OC (mmol\\u002fmol)\",\"x\":0.775,\"xanchor\":\"center\",\"xref\":\"paper\",\"y\":0.46875,\"yanchor\":\"bottom\",\"yref\":\"paper\"},{\"font\":{\"size\":16},\"showarrow\":false,\"text\":\"rho (g\\u002fm**3)\",\"x\":0.225,\"xanchor\":\"center\",\"xref\":\"paper\",\"y\":0.3359375,\"yanchor\":\"bottom\",\"yref\":\"paper\"},{\"font\":{\"size\":16},\"showarrow\":false,\"text\":\"wv (m\\u002fs)\",\"x\":0.775,\"xanchor\":\"center\",\"xref\":\"paper\",\"y\":0.3359375,\"yanchor\":\"bottom\",\"yref\":\"paper\"},{\"font\":{\"size\":16},\"showarrow\":false,\"text\":\"max. wv (m\\u002fs)\",\"x\":0.225,\"xanchor\":\"center\",\"xref\":\"paper\",\"y\":0.203125,\"yanchor\":\"bottom\",\"yref\":\"paper\"},{\"font\":{\"size\":16},\"showarrow\":false,\"text\":\"wd (deg)\",\"x\":0.775,\"xanchor\":\"center\",\"xref\":\"paper\",\"y\":0.203125,\"yanchor\":\"bottom\",\"yref\":\"paper\"},{\"font\":{\"size\":16},\"showarrow\":false,\"text\":\"T (degC)_shift\",\"x\":0.225,\"xanchor\":\"center\",\"xref\":\"paper\",\"y\":0.0703125,\"yanchor\":\"bottom\",\"yref\":\"paper\"}],\"title\":{\"font\":{\"size\":28},\"text\":\"Plots of correlations features lagged against the target\",\"x\":0.5},\"height\":2800,\"width\":1700},                        {\"responsive\": true}                    ).then(function(){\n",
       "                            \n",
       "var gd = document.getElementById('26a7e68d-fe9f-45a2-810b-1728d98cffa1');\n",
       "var x = new MutationObserver(function (mutations, observer) {{\n",
       "        var display = window.getComputedStyle(gd).display;\n",
       "        if (!display || display === 'none') {{\n",
       "            console.log([gd, 'removed!']);\n",
       "            Plotly.purge(gd);\n",
       "            observer.disconnect();\n",
       "        }}\n",
       "}});\n",
       "\n",
       "// Listen for the removal of the full notebook cells\n",
       "var notebookContainer = gd.closest('#notebook-container');\n",
       "if (notebookContainer) {{\n",
       "    x.observe(notebookContainer, {childList: true});\n",
       "}}\n",
       "\n",
       "// Listen for the clearing of the current output cell\n",
       "var outputEl = gd.closest('.output');\n",
       "if (outputEl) {{\n",
       "    x.observe(outputEl, {childList: true});\n",
       "}}\n",
       "\n",
       "                        })                };                });            </script>        </div>"
      ]
     },
     "metadata": {},
     "output_type": "display_data"
    }
   ],
   "source": [
    "# calculate correlations each feature lagged againts the target\n",
    "df_corr_features_lag_target = calculate_corr_features_lag_target(df = data, \n",
    "                                                                 target = 'T (degC)', \n",
    "                                                                 lags = 40\n",
    "                                                                )\n",
    "\n",
    "# plot correlations lagged\n",
    "fig_corr_lag = plot_corr_features_lag_target(df_corr_lags = df_corr_features_lag_target)\n",
    "\n",
    "# show\n",
    "fig_corr_lag.show()\n",
    "\n",
    "# save\n",
    "fig_corr_lag.write_html(\"output_eda/3_bivariate_analysis/plot_corr_features_lag.html\")\n",
    "pio.write_image(fig_corr_lag, \"output_eda/3_bivariate_analysis/plot_corr_features_lag.png\")"
   ]
  },
  {
   "cell_type": "code",
   "execution_count": null,
   "id": "2db29ecd-f32f-474a-8301-07cbbce08c3e",
   "metadata": {},
   "outputs": [],
   "source": []
  },
  {
   "cell_type": "code",
   "execution_count": null,
   "id": "e09c33ee-9516-405a-bfbf-15c1a3eea8f5",
   "metadata": {},
   "outputs": [],
   "source": []
  },
  {
   "cell_type": "code",
   "execution_count": null,
   "id": "99d51008-c5be-4700-9f72-3e87d8f7dfa1",
   "metadata": {},
   "outputs": [],
   "source": []
  },
  {
   "cell_type": "code",
   "execution_count": null,
   "id": "ed0c2714-1e59-4e22-8daa-b9bee7939ff3",
   "metadata": {},
   "outputs": [],
   "source": []
  },
  {
   "cell_type": "code",
   "execution_count": null,
   "id": "9b699d0c-39fb-407b-b1d2-3a35d9689188",
   "metadata": {},
   "outputs": [],
   "source": []
  }
 ],
 "metadata": {
  "kernelspec": {
   "display_name": "Python 3 (ipykernel)",
   "language": "python",
   "name": "python3"
  },
  "language_info": {
   "codemirror_mode": {
    "name": "ipython",
    "version": 3
   },
   "file_extension": ".py",
   "mimetype": "text/x-python",
   "name": "python",
   "nbconvert_exporter": "python",
   "pygments_lexer": "ipython3",
   "version": "3.10.12"
  }
 },
 "nbformat": 4,
 "nbformat_minor": 5
}
